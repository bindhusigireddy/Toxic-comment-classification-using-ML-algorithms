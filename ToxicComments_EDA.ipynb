{
 "cells": [
  {
   "cell_type": "markdown",
   "metadata": {
    "colab_type": "text",
    "id": "kaYNMVqj5yxo"
   },
   "source": [
    "## Preface\n",
    "\n",
    "This is an analysis of Wikipedia comments to create models that identify various types of toxic comments. There is a lot of racist content and swear words in the dataset and some of it will pop up in the analysis. "
   ]
  },
  {
   "cell_type": "code",
   "execution_count": 1,
   "metadata": {
    "colab": {
     "autoexec": {
      "startup": false,
      "wait_interval": 0
     },
     "base_uri": "https://localhost:8080/",
     "height": 920,
     "output_extras": [
      {
       "item_id": 23
      }
     ]
    },
    "colab_type": "code",
    "executionInfo": {
     "elapsed": 32492,
     "status": "ok",
     "timestamp": 1522886463906,
     "user": {
      "displayName": "Jay Speidell",
      "photoUrl": "//lh6.googleusercontent.com/-PA283dAAXaQ/AAAAAAAAAAI/AAAAAAAAGng/nfaP1-4Q3qM/s50-c-k-no/photo.jpg",
      "userId": "112011094715710279880"
     },
     "user_tz": 420
    },
    "id": "It7csY1f5yxs",
    "outputId": "a415ec57-e23e-4d58-b3bf-b46882562dbc"
   },
   "outputs": [],
   "source": [
    "import pandas as pd\n",
    "import numpy as np\n",
    "import nltk\n",
    "import keras\n",
    "import time\n",
    "import matplotlib.pyplot as plt\n",
    "import seaborn as sns"
   ]
  },
  {
   "cell_type": "code",
   "execution_count": 2,
   "metadata": {
    "colab": {
     "autoexec": {
      "startup": false,
      "wait_interval": 0
     }
    },
    "colab_type": "code",
    "id": "keYiW4Ws5yx2"
   },
   "outputs": [],
   "source": [
    "start = time.time()\n",
    "def print_time(start):\n",
    "    time_now = time.time() - start \n",
    "    minutes = int(time_now / 60)\n",
    "    seconds = int(time_now % 60)\n",
    "    if seconds < 10:\n",
    "        print('Elapsed time was %d:0%d.' % (minutes, seconds))\n",
    "    else:\n",
    "        print('Elapsed time was %d:%d.' % (minutes, seconds))"
   ]
  },
  {
   "cell_type": "markdown",
   "metadata": {
    "colab_type": "text",
    "id": "yH8NDq2D5yx9"
   },
   "source": [
    "# Load Data"
   ]
  },
  {
   "cell_type": "code",
   "execution_count": 3,
   "metadata": {
    "colab": {
     "autoexec": {
      "startup": false,
      "wait_interval": 0
     }
    },
    "colab_type": "code",
    "id": "fc8ZnSN35yx-"
   },
   "outputs": [],
   "source": [
    "df = pd.read_csv('train.csv')\n",
    "df_sub = pd.read_csv('test.csv')\n",
    "\n",
    "submission = pd.DataFrame()\n",
    "submission['id'] = df_sub.id.copy()"
   ]
  },
  {
   "cell_type": "code",
   "execution_count": 4,
   "metadata": {
    "colab": {
     "autoexec": {
      "startup": false,
      "wait_interval": 0
     },
     "base_uri": "https://localhost:8080/",
     "height": 156,
     "output_extras": [
      {
       "item_id": 1
      }
     ]
    },
    "colab_type": "code",
    "executionInfo": {
     "elapsed": 346,
     "status": "ok",
     "timestamp": 1522886467026,
     "user": {
      "displayName": "Jay Speidell",
      "photoUrl": "//lh6.googleusercontent.com/-PA283dAAXaQ/AAAAAAAAAAI/AAAAAAAAGng/nfaP1-4Q3qM/s50-c-k-no/photo.jpg",
      "userId": "112011094715710279880"
     },
     "user_tz": 420
    },
    "id": "ihHADViw5yyF",
    "outputId": "eda8946f-0180-40ae-de3d-67059081ae07"
   },
   "outputs": [
    {
     "name": "stdout",
     "output_type": "stream",
     "text": [
      "0% or 0 missing from id column.\n",
      "0% or 0 missing from comment_text column.\n",
      "0% or 0 missing from toxic column.\n",
      "0% or 0 missing from severe_toxic column.\n",
      "0% or 0 missing from obscene column.\n",
      "0% or 0 missing from threat column.\n",
      "0% or 0 missing from insult column.\n",
      "0% or 0 missing from identity_hate column.\n"
     ]
    }
   ],
   "source": [
    "def null_percentage(column):\n",
    "    df_name = column.name\n",
    "    nans = np.count_nonzero(column.isnull().values)\n",
    "    total = column.size\n",
    "    frac = nans / total\n",
    "    perc = int(frac * 100)\n",
    "    print('%d%% or %d missing from %s column.' % \n",
    "          (perc, nans, df_name))\n",
    "\n",
    "def check_null(df, columns):\n",
    "    for col in columns:\n",
    "        null_percentage(df[col])\n",
    "        \n",
    "check_null(df, df.columns)"
   ]
  },
  {
   "cell_type": "markdown",
   "metadata": {
    "colab_type": "text",
    "id": "jxMujLal5yyN"
   },
   "source": [
    "# EDA "
   ]
  },
  {
   "cell_type": "code",
   "execution_count": 5,
   "metadata": {
    "colab": {
     "autoexec": {
      "startup": false,
      "wait_interval": 0
     },
     "base_uri": "https://localhost:8080/",
     "height": 69,
     "output_extras": [
      {
       "item_id": 1
      }
     ]
    },
    "colab_type": "code",
    "executionInfo": {
     "elapsed": 400,
     "status": "ok",
     "timestamp": 1522886467640,
     "user": {
      "displayName": "Jay Speidell",
      "photoUrl": "//lh6.googleusercontent.com/-PA283dAAXaQ/AAAAAAAAAAI/AAAAAAAAGng/nfaP1-4Q3qM/s50-c-k-no/photo.jpg",
      "userId": "112011094715710279880"
     },
     "user_tz": 420
    },
    "id": "mh7iT3To5yyP",
    "outputId": "8c2c1cfd-5aff-41ab-d3ba-f66743baa896"
   },
   "outputs": [
    {
     "name": "stdout",
     "output_type": "stream",
     "text": [
      "8 features and 159571 records.\n",
      "\n",
      "Target columns: toxic, severe_toxic, obscene, threat, insult, identity_hate\n"
     ]
    }
   ],
   "source": [
    "print('%d features and %d records.' % (df.shape[1], df.shape[0]))\n",
    "print()\n",
    "targets = list(df.columns[2:])\n",
    "print('Target columns: ' + ', '.join(targets))"
   ]
  },
  {
   "cell_type": "code",
   "execution_count": 6,
   "metadata": {
    "colab": {
     "autoexec": {
      "startup": false,
      "wait_interval": 0
     },
     "base_uri": "https://localhost:8080/",
     "height": 81,
     "output_extras": [
      {
       "item_id": 1
      }
     ]
    },
    "colab_type": "code",
    "executionInfo": {
     "elapsed": 368,
     "status": "ok",
     "timestamp": 1522721617678,
     "user": {
      "displayName": "Jay Speidell",
      "photoUrl": "//lh6.googleusercontent.com/-PA283dAAXaQ/AAAAAAAAAAI/AAAAAAAAGng/nfaP1-4Q3qM/s50-c-k-no/photo.jpg",
      "userId": "112011094715710279880"
     },
     "user_tz": 420
    },
    "id": "b5Z9t_Ov5yyW",
    "outputId": "46010374-331c-4314-f7aa-0afe21a3fae5"
   },
   "outputs": [
    {
     "data": {
      "text/html": [
       "<div>\n",
       "<style scoped>\n",
       "    .dataframe tbody tr th:only-of-type {\n",
       "        vertical-align: middle;\n",
       "    }\n",
       "\n",
       "    .dataframe tbody tr th {\n",
       "        vertical-align: top;\n",
       "    }\n",
       "\n",
       "    .dataframe thead th {\n",
       "        text-align: right;\n",
       "    }\n",
       "</style>\n",
       "<table border=\"1\" class=\"dataframe\">\n",
       "  <thead>\n",
       "    <tr style=\"text-align: right;\">\n",
       "      <th></th>\n",
       "      <th>id</th>\n",
       "      <th>comment_text</th>\n",
       "      <th>toxic</th>\n",
       "      <th>severe_toxic</th>\n",
       "      <th>obscene</th>\n",
       "      <th>threat</th>\n",
       "      <th>insult</th>\n",
       "      <th>identity_hate</th>\n",
       "    </tr>\n",
       "  </thead>\n",
       "  <tbody>\n",
       "    <tr>\n",
       "      <th>0</th>\n",
       "      <td>0000997932d777bf</td>\n",
       "      <td>Explanation\\nWhy the edits made under my usern...</td>\n",
       "      <td>0</td>\n",
       "      <td>0</td>\n",
       "      <td>0</td>\n",
       "      <td>0</td>\n",
       "      <td>0</td>\n",
       "      <td>0</td>\n",
       "    </tr>\n",
       "    <tr>\n",
       "      <th>1</th>\n",
       "      <td>000103f0d9cfb60f</td>\n",
       "      <td>D'aww! He matches this background colour I'm s...</td>\n",
       "      <td>0</td>\n",
       "      <td>0</td>\n",
       "      <td>0</td>\n",
       "      <td>0</td>\n",
       "      <td>0</td>\n",
       "      <td>0</td>\n",
       "    </tr>\n",
       "    <tr>\n",
       "      <th>2</th>\n",
       "      <td>000113f07ec002fd</td>\n",
       "      <td>Hey man, I'm really not trying to edit war. It...</td>\n",
       "      <td>0</td>\n",
       "      <td>0</td>\n",
       "      <td>0</td>\n",
       "      <td>0</td>\n",
       "      <td>0</td>\n",
       "      <td>0</td>\n",
       "    </tr>\n",
       "    <tr>\n",
       "      <th>3</th>\n",
       "      <td>0001b41b1c6bb37e</td>\n",
       "      <td>\"\\nMore\\nI can't make any real suggestions on ...</td>\n",
       "      <td>0</td>\n",
       "      <td>0</td>\n",
       "      <td>0</td>\n",
       "      <td>0</td>\n",
       "      <td>0</td>\n",
       "      <td>0</td>\n",
       "    </tr>\n",
       "    <tr>\n",
       "      <th>4</th>\n",
       "      <td>0001d958c54c6e35</td>\n",
       "      <td>You, sir, are my hero. Any chance you remember...</td>\n",
       "      <td>0</td>\n",
       "      <td>0</td>\n",
       "      <td>0</td>\n",
       "      <td>0</td>\n",
       "      <td>0</td>\n",
       "      <td>0</td>\n",
       "    </tr>\n",
       "  </tbody>\n",
       "</table>\n",
       "</div>"
      ],
      "text/plain": [
       "                 id                                       comment_text  toxic  \\\n",
       "0  0000997932d777bf  Explanation\\nWhy the edits made under my usern...      0   \n",
       "1  000103f0d9cfb60f  D'aww! He matches this background colour I'm s...      0   \n",
       "2  000113f07ec002fd  Hey man, I'm really not trying to edit war. It...      0   \n",
       "3  0001b41b1c6bb37e  \"\\nMore\\nI can't make any real suggestions on ...      0   \n",
       "4  0001d958c54c6e35  You, sir, are my hero. Any chance you remember...      0   \n",
       "\n",
       "   severe_toxic  obscene  threat  insult  identity_hate  \n",
       "0             0        0       0       0              0  \n",
       "1             0        0       0       0              0  \n",
       "2             0        0       0       0              0  \n",
       "3             0        0       0       0              0  \n",
       "4             0        0       0       0              0  "
      ]
     },
     "execution_count": 6,
     "metadata": {},
     "output_type": "execute_result"
    }
   ],
   "source": [
    "df.head()"
   ]
  },
  {
   "cell_type": "code",
   "execution_count": 7,
   "metadata": {
    "colab": {
     "autoexec": {
      "startup": false,
      "wait_interval": 0
     },
     "base_uri": "https://localhost:8080/",
     "height": 1598,
     "output_extras": [
      {
       "item_id": 1
      },
      {
       "item_id": 2
      },
      {
       "item_id": 3
      },
      {
       "item_id": 4
      }
     ]
    },
    "colab_type": "code",
    "executionInfo": {
     "elapsed": 1102,
     "status": "ok",
     "timestamp": 1522886469004,
     "user": {
      "displayName": "Jay Speidell",
      "photoUrl": "//lh6.googleusercontent.com/-PA283dAAXaQ/AAAAAAAAAAI/AAAAAAAAGng/nfaP1-4Q3qM/s50-c-k-no/photo.jpg",
      "userId": "112011094715710279880"
     },
     "user_tz": 420
    },
    "id": "gYpto7lh5yyf",
    "outputId": "5a872517-9d9e-42f2-d5ec-a8e1afdbc00f",
    "scrolled": false
   },
   "outputs": [
    {
     "data": {
      "image/png": "[encoded data removed]",
      "text/plain": [
       "<Figure size 1000x1000 with 2 Axes>"
      ]
     },
     "metadata": {},
     "output_type": "display_data"
    },
    {
     "name": "stdout",
     "output_type": "stream",
     "text": [
      "Training Data Comment Breakdown\n",
      "=====\n",
      "\n",
      "16225 out of 159571 comments, or 10.17%, are classified as toxic.\n",
      "\n",
      "15294 toxic comments. (9.58% of all data.)\n",
      "- 1595 or 10.43% were also severe_toxic.\n",
      "- 7926 or 51.82% were also obscene.\n",
      "- 449 or 2.94% were also threat.\n",
      "- 7344 or 48.02% were also insult.\n",
      "- 1302 or 8.51% were also identity_hate.\n",
      "- 15294 or 100.00% were also any_label.\n",
      "\n",
      "1595 severe_toxic comments. (1.00% of all data.)\n",
      "- 1595 or 100.00% were also toxic.\n",
      "- 1517 or 95.11% were also obscene.\n",
      "- 112 or 7.02% were also threat.\n",
      "- 1371 or 85.96% were also insult.\n",
      "- 313 or 19.62% were also identity_hate.\n",
      "- 1595 or 100.00% were also any_label.\n",
      "\n",
      "8449 obscene comments. (5.29% of all data.)\n",
      "- 7926 or 93.81% were also toxic.\n",
      "- 1517 or 17.95% were also severe_toxic.\n",
      "- 301 or 3.56% were also threat.\n",
      "- 6155 or 72.85% were also insult.\n",
      "- 1032 or 12.21% were also identity_hate.\n",
      "- 8449 or 100.00% were also any_label.\n",
      "\n",
      "478 threat comments. (0.30% of all data.)\n",
      "- 449 or 93.93% were also toxic.\n",
      "- 112 or 23.43% were also severe_toxic.\n",
      "- 301 or 62.97% were also obscene.\n",
      "- 307 or 64.23% were also insult.\n",
      "- 98 or 20.50% were also identity_hate.\n",
      "- 478 or 100.00% were also any_label.\n",
      "\n",
      "7877 insult comments. (4.94% of all data.)\n",
      "- 7344 or 93.23% were also toxic.\n",
      "- 1371 or 17.41% were also severe_toxic.\n",
      "- 6155 or 78.14% were also obscene.\n",
      "- 307 or 3.90% were also threat.\n",
      "- 1160 or 14.73% were also identity_hate.\n",
      "- 7877 or 100.00% were also any_label.\n",
      "\n",
      "1405 identity_hate comments. (0.88% of all data.)\n",
      "- 1302 or 92.67% were also toxic.\n",
      "- 313 or 22.28% were also severe_toxic.\n",
      "- 1032 or 73.45% were also obscene.\n",
      "- 98 or 6.98% were also threat.\n",
      "- 1160 or 82.56% were also insult.\n",
      "- 1405 or 100.00% were also any_label.\n",
      "\n",
      "16225 any_label comments. (10.17% of all data.)\n",
      "- 15294 or 94.26% were also toxic.\n",
      "- 1595 or 9.83% were also severe_toxic.\n",
      "- 8449 or 52.07% were also obscene.\n",
      "- 478 or 2.95% were also threat.\n",
      "- 7877 or 48.55% were also insult.\n",
      "- 1405 or 8.66% were also identity_hate.\n"
     ]
    },
    {
     "data": {
      "image/png": "[encoded data removed]",
      "text/plain": [
       "<Figure size 800x600 with 1 Axes>"
      ]
     },
     "metadata": {},
     "output_type": "display_data"
    }
   ],
   "source": [
    "targets = list(df.columns[2:])\n",
    "df_targets = df[targets].copy()\n",
    "\n",
    "# How many rows are toxic? \n",
    "toxic_rows = df_targets.sum(axis=1)\n",
    "toxic_rows = (toxic_rows > 0)\n",
    "\n",
    "# Create overall any_label feature\n",
    "targets.append('any_label')\n",
    "df_targets['any_label'] = toxic_rows\n",
    "\n",
    "count_dic = {}\n",
    "for comment_type in targets:\n",
    "    counts = list()\n",
    "    others = list(targets)\n",
    "    df_selection = df_targets[(df_targets[comment_type]==1)]\n",
    "    others.remove(comment_type)\n",
    "    counts.append(('total', len(df_selection)))\n",
    "    for other in others:\n",
    "        counts.append((other, df_selection[other].sum()))\n",
    "    count_dic[comment_type] = counts\n",
    "\n",
    "\n",
    "del(df_selection)\n",
    "\n",
    "def heatmap(df, title):\n",
    "    plt.figure('heatmap', figsize=[10,10])\n",
    "    plt.title(title)\n",
    "    df_corr = df.corr()\n",
    "    #df_corr = np.triu(df_corr, k=1)\n",
    "    sns.heatmap(df_corr, vmax=0.6, square=True, annot=True, cmap='YlOrRd')\n",
    "    plt.yticks(rotation = 45)\n",
    "    plt.xticks(rotation = 45)\n",
    "    plt.show()\n",
    "\n",
    "heatmap(df_targets, 'Comment Type Heatmap')\n",
    "\n",
    "\n",
    "print('Training Data Comment Breakdown')\n",
    "print('=====\\n')\n",
    "\n",
    "print('%d out of %d comments, or %.2f%%, are classified as toxic.' % \n",
    "     (np.sum(toxic_rows), len(df), (np.sum(toxic_rows)/len(df))*100))\n",
    "\n",
    "totals = []\n",
    "for key, value in count_dic.items():\n",
    "    totals.append(value[0][1])\n",
    "    print('\\n%d %s comments. (%.2f%% of all data.)' % (value[0][1], key, (value[0][1]/len(df))*100))\n",
    "    for cnt in value[1:]:\n",
    "        print('- %d or %.2f%% were also %s.' % (cnt[1], (cnt[1]/value[0][1])*100, cnt[0]))\n",
    "    \n",
    "\n",
    "plt.figure('Comment Type Counts', figsize=[8,6])\n",
    "plt.title('Comment Type Counts')\n",
    "sns.barplot(x=list(count_dic.keys()), y=totals)\n",
    "plt.show()"
   ]
  },
  {
   "cell_type": "code",
   "execution_count": 8,
   "metadata": {},
   "outputs": [
    {
     "name": "stdout",
     "output_type": "stream",
     "text": [
      "Label: toxic ============================================================\n",
      "\"\n",
      "http://en.wikipedia.org/w/index.php?title=Wikipedia:Sockpuppet_investigations/FaheyUSMC&diff;=prev&oldid;=451979799 \n",
      "Look Toddst1, you annoying, rude, uncivil bully, I was referring to THE DATING GUY TALK PAGE that I was finally able to read and study the history of after Dragonfly6-7 put it back in viewable status. I can see everything you and your friends did there. I can see the nice neat note from Agent86 where he says he wouldn't go near it any more because of how you people behave. This is not an \"\"admission of guilt\"\", this is proof that I went back and read and saw all the shenanigans you were a part of. What is wrong with you that you keep having to hound and harass me? Am I Prisoner 24601 to your Inspector Javert? 76.31.236.91  \"\n",
      "++++++++++++\n",
      "How are you MudkipsPlz? Or should I call you CHIX0R? Or do you like Angel-of-Losers better?\n",
      "++++++++++++\n",
      "\"you source Nazi)\"\" is an example.\"\n",
      "++++++++++++\n",
      "Like I said - cunt.\n",
      "++++++++++++\n",
      "See? \n",
      "\n",
      "I warned you not to piss me off, and you went ahead and did so.\n",
      "++++++++++++\n",
      "SEE \n",
      "\n",
      "You 2 have me so damn busy trying to revert to stupid crap your doing to the article, I have no time to FIX the things needing fixed. Why don't you give a person 24 hrs before you get all power happy.\n",
      "++++++++++++\n",
      "hey idiot \n",
      "\n",
      "quit fucking with the sentry gun page. you leave in links to other peoples sites but through your blatant hypocrisy you take mine out. what is my site about? sentry guns. well god damn, that couldn't be any more relevant could it? it all boils down to opinions. you have your opinion of what's relevant and i have mine. all it is is your opinion nothing more. it is no more legitimate than the opinion of anyone else. the problem is, for no reason of any validity, you've been given extra abilities. you're still the same idiot, but with more of a vote. go fuck yourself. you have no sense of unbiased logic. i do not care about what you think is appropriate or not as you are irrelevant.\n",
      "++++++++++++\n",
      "http://comm.colorado.edu/~jacksonj/research/coon.pdf There look at my talk page Ryantheravensfan1. It is proof the discussion and citing of the mans work was a fraud. If you try to make this bullshit again I am reporting you.\n",
      "++++++++++++\n",
      "racist reetards \n",
      "\n",
      "im sick of you racist reeetards who continue to distort your filthy british history, but those who matter know, we know tosser, we know\n",
      "++++++++++++\n",
      "editing my talk page \n",
      "\n",
      "Listen!, GSK I am sick of finding you're frickin, lame advice on my talk page. KEEP YOUR NOSE IN YOUR OWN BUSINESS! From now no more speedy deletion, warnings, or blockage of editing!!!!!!!!!!!!!!!!!!!!!!!!!!!!!!!!!!!!!!!!!!!!!!!!!!!!!!!!!!!!!!!!!!!!!!!!!!!!!!!!!!!!!!!!!!!!!!!!!!!!!!!!!!!!!!!!!!!!!!!!!!!!!!!!!!!!!!!!!!!!!!!!!!!!!!! NOW SHUT UP, YOU MORON!!!\n",
      "++++++++++++\n",
      "\n",
      "Label: severe_toxic ============================================================\n",
      "FUCK YOU ALL, LOSERS \n",
      "\n",
      "FUCK OFF MY PAGE, FAGS\n",
      "++++++++++++\n",
      "PENIS VAGINA YOU SUCK FAGGOT ASSHOLES AT WIKIPEDIA\n",
      "++++++++++++\n",
      "you are a fucking bawbag.\n",
      "\n",
      "get a real job you bumder and stop moaning to wikipedia you sack of spunk.\n",
      "\n",
      "im going to come to your house and rape your children.\n",
      "++++++++++++\n",
      "| decline=Niggers, jews, bad news! Also my cock is hard so it's time for rape lol 86.181.0.14\n",
      "++++++++++++\n",
      "FUCKAN STOP CHANGON IT OR I AM TWIST OFF YOURE LITTOL PEE-WEES AND YOURE FUCKON MONKEY\n",
      "\n",
      "FUCKAN IDEOT my name am JOSSEL MUBEDEON AND I DONE FUCKON MAKE THINGS BETTOR\n",
      "\n",
      "I FIXES THINGS\n",
      "\n",
      "undarstand\n",
      "++++++++++++\n",
      "\"YOU FAT FUCK\n",
      "\n",
      "YOU FAT FUCK\n",
      "\n",
      "YOU FAT FUCK\n",
      "\n",
      "YOU FAT FUCK\n",
      "\n",
      "YOU FAT FUCK\n",
      "\n",
      "YOU FAT FUCK\n",
      "\n",
      "YOU FAT FUCK\n",
      "\n",
      "YOU FAT FUCK\n",
      "\n",
      "YOU FAT FUCK\n",
      "\n",
      "YOU FAT FUCK\n",
      "\n",
      "YOU FAT FUCK\n",
      "\n",
      "YOU FAT FUCK\n",
      "\n",
      "YOU FAT FUCK\n",
      "\n",
      "YOU FAT FUCK\n",
      "\n",
      "YOU FAT FUCK\n",
      "\n",
      "YOU FAT FUCK\n",
      "\n",
      "YOU FAT FUCK\n",
      "\n",
      "YOU FAT FUCK\n",
      "\n",
      "YOU FAT FUCK\n",
      "\n",
      "YOU FAT FUCK\n",
      "\n",
      "YOU FAT FUCK\n",
      "\n",
      "YOU FAT FUCK\n",
      "\n",
      "YOU FAT FUCK\n",
      "\n",
      "YOU FAT FUCK\n",
      "\n",
      "YOU FAT FUCK\n",
      "\n",
      "YOU FAT FUCK\n",
      "\n",
      "YOU FAT FUCK\n",
      "\n",
      "YOU FAT FUCK\n",
      "\n",
      "YOU FAT FUCK\n",
      "\n",
      "YOU FAT FUCK\n",
      "\n",
      "YOU FAT FUCK\n",
      "\n",
      "YOU FAT FUCK\n",
      "\n",
      "YOU FAT FUCK\n",
      "\n",
      "YOU FAT FUCK\n",
      "\n",
      "YOU FAT FUCK\n",
      "\n",
      "YOU FAT FUCK\n",
      "\n",
      "YOU FAT FUCK\n",
      "\n",
      "YOU FAT FUCK\n",
      "\n",
      "YOU FAT FUCK\n",
      "\n",
      "YOU FAT FUCK\n",
      "\n",
      "YOU FAT FUCK\n",
      "\n",
      "YOU FAT FUCK\n",
      "\n",
      "YOU FAT FUCK\n",
      "\n",
      "YOU FAT FUCK\n",
      "\n",
      "YOU FAT FUCK\n",
      "\n",
      "YOU FAT FUCK\n",
      "\n",
      "YOU FAT FUCK\n",
      "\n",
      "YOU FAT FUCK\n",
      "\n",
      "YOU FAT FUCK\n",
      "\n",
      "YOU FAT FUCK\n",
      "\n",
      "YOU FAT FUCK\n",
      "\n",
      "YOU FAT FUCK\n",
      "++++++++++++\n",
      "AM A BIG FUCKING RETARD\n",
      "++++++++++++\n",
      "\":::fuck you animal! remember this shit yourself, who do you think you are coming here with warnings and talking about \"\"being a dick\"\"   \n",
      "\n",
      "\"\n",
      "++++++++++++\n",
      "WEENIE \n",
      "\n",
      "pecker\n",
      "\n",
      "fuckstick!!!\n",
      "\n",
      " dnjqo dqwelj\n",
      "++++++++++++\n",
      "DanielRigal \n",
      "\n",
      "BITCH YOU ARE A FUCKING GEEK ASS PUSSY U AIT SHIT U AINT EVER GONNA BE SHIT GET A FUCKIN LIFE U BITCH ASS HOMO\n",
      "GO AHEAD DELETE ME BITCH AND UR WORK SUCKS.\n",
      "++++++++++++\n",
      "\n",
      "Label: obscene ============================================================\n",
      "Anyone else glad that this stupid fucker offed himself?\n",
      "\n",
      "I sure am. Hey Britbarb, fuck off. Your nephew was a punk who couldn't handle his shit. And now you and his parents are on some fucking caped-crusade to destroy the lives of MILLIONS of innocent people who just want to alter their consciousness... I'm sure that's what your Salvia-using kid would have wanted. Karma's a bitch. Keep up your holy war, and the universe will smack you down so fucking hard that you'll wish that you all had killed yourselves when that pussy Brett did.\n",
      "++++++++++++\n",
      "Haha Fuckface!!!\n",
      "\n",
      "Let's play this game all night long shit-bitch! Oh no wait - I'd love to but I have a life. Before you deny that by saying that I spend some of it vandalizing this site, consider that it takes me a minute to fuck your shit up - it takes you a lifetime to spazz out about this you sad fuckwit!!! HAHAHAHA! PEACE OUT FAGS!\n",
      "++++++++++++\n",
      "\"\n",
      "It wasn't enough, no, because they were deported and not executed.  \"\"My human brothers\"\"?  Ha ha ha.  How many wedgies did you get in high school?!  Fucking Frenchies.  What losers.   \"\n",
      "++++++++++++\n",
      "Hey guys! This guy is a cunt nigger faggot.\n",
      "++++++++++++\n",
      "i dont lambs12 \n",
      "\n",
      "wikipedia sucks ass pussy in the dick i dont give a pussy fuck about lambs12 bitch nigger asshole cock  retyc\n",
      "++++++++++++\n",
      "All my answers were given, i am not banned on boxrec, and i found out their wiki is not part of this wiki, i reject all your claims, you are full of shit and garbage and so on, and you do not deserve the honor and dignity of wasting my time and giving your court reply bs accusations and i have no time like you, no i am not gone! I have evidence you were banded, now you want to blame it on others you low life!\n",
      "++++++++++++\n",
      "Man you are seriously fucking retarded. Did you write those shitty articles yourself?\n",
      "++++++++++++\n",
      "Why don't you crawl away and die you disgusting pig. Go fuck yourself you saddo\n",
      "++++++++++++\n",
      "who the hell are u \n",
      "\n",
      "      why do u even bother coming back to recap my spelling problems when you dont even fucking know me, man i was saying the school is fucking gay as shit because u cant get away with shit\n",
      "++++++++++++\n",
      "How Many Chins Do You Have? \n",
      "\n",
      "Hi, faggot, how many chins do you have?  You should exercise a little bit instead of sitting on your fat ass guarding all your precious\n",
      "left-wing biography pages.\n",
      "++++++++++++\n",
      "\n",
      "Label: threat ============================================================\n",
      "queer \n",
      "\n",
      "wow ur so fucking gay u should go die\n",
      "++++++++++++\n",
      "You should commit suicide and get it over with.\n",
      "++++++++++++\n",
      "Drop dead \n",
      "\n",
      "Drop dead.\n",
      "++++++++++++\n",
      "== fuck you \n",
      "I hope you die motherfucker\n",
      "++++++++++++\n",
      "\"\n",
      "\n",
      " Bye Bye Jerk! \n",
      "\n",
      "I guess this means you will be crying about the Nazis anymore.  What is your problem with Nazis anyway?  Did you date a Nazi woman and she broke your heart??  What a shame!!!\n",
      "\n",
      "Your life isn't worth living anymore so pleasee KILL YOURSELF!\n",
      "\n",
      "You know I'm right.  You've felt this way for a long time.  You've probably been thinking about killing yourself for quite some time.  I'm here to tell you, it's all right.  Go ahead.  Do it.  It won't hurt. Be brave.  All your troubles will be over.  You won't have the pain anymore.  Everyone else?  Don't worry, they'll get by.  \n",
      "\n",
      "What do you mean It's not your fault things turned out badly?  It certainly IS your fault.  You ought to be ashamed of yourself for what you've done  - and failed to do.  Maybe things could have changed if you weren't such  a weakling.  You're defective.  You've been that way for a long time.  You are proof that God makes mistakes.\n",
      "\n",
      "Look at your life.  Failure after failure after failure.  And should we mention those \"\"things\"\" that you did?  You know what I'm talking about.  I can't believe you did that!  You disgust me.  You should have died a long time ago.  You know I'm right.  \n",
      "\n",
      "JUST DO IT!!!\"\n",
      "++++++++++++\n",
      "Hey Man\n",
      "You are a retarded Mexican cocksucking piece of fucking shit. Please go fucking kill yourself. Wikipedia admins are lower then niggers! Fuck you!\n",
      "++++++++++++\n",
      "If I hack your account, I am going to poop on you!\n",
      "\n",
      "If I wikize this page, I am going to punch you in the face!\n",
      "++++++++++++\n",
      "Be nice and don't be a dick, or I will kick your ass.\n",
      "++++++++++++\n",
      "But you shall never take me or find my location. I'll die a free rat.\n",
      "\n",
      "Never to be separated again, until they were no longer conscious of it.\n",
      "\n",
      "It can't be that he continues his life without me! I gave this sort of life to him! It was my gift! He too must die... must...die... must...\n",
      "++++++++++++\n",
      "You're a stupid cunt \n",
      "\n",
      "Fuck you dumb arse, your mum has a hairy cunt and I hope and pray that you die, no, fuck that, I wish you would die, if I had three wishes, one of them would be to have you dead, and the others would be so that everyone you knew hated your cunt like face.\n",
      "++++++++++++\n",
      "\n",
      "Label: insult ============================================================\n",
      "Moron \n",
      "In that brothel your mother work? Go find out who is your father\n",
      "\n",
      "I'm going out of this puppet account, if you want, Block Me Till Armageddon\n",
      "++++++++++++\n",
      "SHut the fuck up you motherfucker, you probably engage with incest with your deceased grandmother...\n",
      "++++++++++++\n",
      "Trouted \n",
      "\n",
      "You have been trouted for: ?B/ for life go kill urslef really this site sucks you are a joke really get a life go out into the world\n",
      "++++++++++++\n",
      "|Jesus cant you guys take a few fucking jokes for fucks sake? Fucking eh you guys take this fucking shit too fucking serious, i mean what the fuck is this? Fucking Prison fucking camp? Please fucking unblock me\n",
      "++++++++++++\n",
      "You are such a nigger!\n",
      "++++++++++++\n",
      "Suck my dick and swallow\n",
      "++++++++++++\n",
      "User abd is Muslims scum\n",
      "++++++++++++\n",
      "This user is a fucking bully, who bully's people an owns articles. I gave in on the discussion regarding the numbers and formats on the page why should I this time, rich please see my point I don't want this aggro.\n",
      "++++++++++++\n",
      ". USE THAT BANHAMMA NAO GAYBOY\n",
      "++++++++++++\n",
      "Abd is Muslim scum, the religion of terrorism\n",
      "++++++++++++\n",
      "\n",
      "Label: identity_hate ============================================================\n",
      "GET SOME GLASSES YOU MENTAL FAGOTs, IM Calling you the idiots SHITheads!!!!! What the F@#%k is wrong with you.\n",
      "++++++++++++\n",
      "8=====D- - - \n",
      "8=====D- - - -\n",
      "8======D- - -                \n",
      "8=====D- - - \n",
      "8========D- - - \n",
      "8=======D- - - -\n",
      "8=====D- - - - -\n",
      "8=======D- - - -\n",
      "\n",
      "I hope you liberal faggots die and go to hell! Barack Obama 2008!\n",
      "++++++++++++\n",
      "YOU BRAINLESS EDITORS \n",
      "\n",
      "You idots are probably majority white.\n",
      "\n",
      "I put a relevant post up called NIGGER CRACKERS, which is a readily used and historically used Racial Epithet, in Northern America and you try to discredit me and pose to ban me from editing. \n",
      "\n",
      "If the term NIGGER CRACKER can't be posted, then the term NIGGER should be taken down. \n",
      "\n",
      "If NIGGER isn't taken down, or NIGGER CRACKER isn't allowed up, wikipedia will be facing the biggest law suit of our day and age.\n",
      "\n",
      "Don't threaten my posts again as well.\n",
      "\n",
      "I'm awaiting rapid feedback or my lawyer will be in touch.\n",
      "++++++++++++\n",
      "\"\n",
      "\n",
      " Kill yourself \n",
      "\n",
      "I mean just look at you you fucking faggot. You're Indian. You lose. Kill yourself. With love Swagfuckingtastic.\n",
      "\n",
      "  \n",
      "\"\n",
      "++++++++++++\n",
      "AimeeLee you are a dumb fuck. You are an American, i guess. Or a reall, really, really thick Canadian/aussie/kiwi.\n",
      "++++++++++++\n",
      "You fucking guinea wop, greaseball, guido, new york piece of shit.  Go back to your bumfilled, AIDS infested, cesspool of a state.\n",
      "++++++++++++\n",
      "Basically, homosexuality lowers productivity, which, through natrual law, would make it a disorder.\n",
      "++++++++++++\n",
      "HUGE FAGGOT HUGE FAGGOT HUGE FAGGOT HUGE FAGGOT HUGE FAGGOT HUGE FAGGOT HUGE FAGGOT HUGE FAGGOT HUGE FAGGOT HUGE FAGGOT HUGE FAGGOT HUGE FAGGOT HUGE FAGGOT HUGE FAGGOT HUGE FAGGOT HUGE FAGGOT HUGE FAGGOT HUGE FAGGOT HUGE FAGGOT HUGE FAGGOT HUGE FAGGOT HUGE FAGGOT HUGE FAGGOT HUGE FAGGOT HUGE FAGGOT HUGE FAGGOT HUGE FAGGOT HUGE FAGGOT HUGE FAGGOT HUGE FAGGOT HUGE FAGGOT HUGE FAGGOT HUGE FAGGOT HUGE FAGGOT HUGE FAGGOT HUGE FAGGOT HUGE FAGGOT HUGE FAGGOT HUGE FAGGOT HUGE FAGGOT HUGE FAGGOT HUGE FAGGOT HUGE FAGGOT HUGE FAGGOT HUGE FAGGOT HUGE FAGGOT HUGE FAGGOT HUGE FAGGOT HUGE FAGGOT HUGE FAGGOT HUGE FAGGOT HUGE FAGGOT HUGE FAGGOT HUGE FAGGOT HUGE FAGGOT HUGE FAGGOT HUGE FAGGOT HUGE FAGGOT HUGE FAGGOT HUGE FAGGOT HUGE FAGGOT HUGE FAGGOT HUGE FAGGOT HUGE FAGGOT HUGE FAGGOT HUGE FAGGOT HUGE FAGGOT HUGE FAGGOT HUGE FAGGOT HUGE FAGGOT HUGE FAGGOT HUGE FAGGOT HUGE FAGGOT HUGE FAGGOT HUGE FAGGOT HUGE FAGGOT HUGE FAGGOT HUGE FAGGOT HUGE FAGGOT HUGE FAGGOT HUGE FAGGOT HUGE FAGGOT HUGE FAGGOT HUGE FAGGOT HUGE FAGGOT HUGE FAGGOT HUGE FAGGOT HUGE FAGGOT HUGE FAGGOT HUGE FAGGOT HUGE FAGGOT HUGE FAGGOT HUGE FAGGOT HUGE FAGGOT HUGE FAGGOT HUGE FAGGOT HUGE FAGGOT HUGE FAGGOT HUGE FAGGOT HUGE FAGGOT HUGE FAGGOT HUGE FAGGOT HUGE FAGGOT HUGE FAGGOT HUGE FAGGOT HUGE FAGGOT HUGE FAGGOT HUGE FAGGOT HUGE FAGGOT HUGE FAGGOT HUGE FAGGOT HUGE FAGGOT HUGE FAGGOT HUGE FAGGOT HUGE FAGGOT HUGE FAGGOT HUGE FAGGOT HUGE FAGGOT HUGE FAGGOT HUGE FAGGOT HUGE FAGGOT HUGE FAGGOT HUGE FAGGOT HUGE FAGGOT HUGE FAGGOT HUGE FAGGOT HUGE FAGGOT HUGE FAGGOT HUGE FAGGOT HUGE FAGGOT HUGE FAGGOT HUGE FAGGOT HUGE FAGGOT HUGE FAGGOT HUGE FAGGOT HUGE FAGGOT HUGE FAGGOT HUGE FAGGOT HUGE FAGGOT HUGE FAGGOT HUGE FAGGOT HUGE FAGGOT HUGE FAGGOT HUGE FAGGOT HUGE FAGGOT HUGE FAGGOT HUGE FAGGOT HUGE FAGGOT HUGE FAGGOT HUGE FAGGOT HUGE FAGGOT HUGE FAGGOT HUGE FAGGOT HUGE FAGGOT HUGE FAGGOT HUGE FAGGOT HUGE FAGGOT HUGE FAGGOT HUGE FAGGOT HUGE FAGGOT HUGE FAGGOT HUGE FAGGOT HUGE FAGGOT HUGE FAGGOT HUGE FAGGOT HUGE FAGGOT HUGE FAGGOT HUGE FAGGOT HUGE FAGGOT HUGE FAGGOT HUGE FAGGOT HUGE FAGGOT HUGE FAGGOT HUGE FAGGOT HUGE FAGGOT HUGE FAGGOT HUGE FAGGOT HUGE FAGGOT HUGE FAGGOT HUGE FAGGOT HUGE FAGGOT HUGE FAGGOT HUGE FAGGOT HUGE FAGGOT HUGE FAGGOT HUGE FAGGOT HUGE FAGGOT HUGE FAGGOT HUGE FAGGOT HUGE FAGGOT HUGE FAGGOT HUGE FAGGOT HUGE FAGGOT HUGE FAGGOT HUGE FAGGOT HUGE FAGGOT HUGE FAGGOT HUGE FAGGOT HUGE FAGGOT HUGE FAGGOT HUGE FAGGOT HUGE FAGGOT HUGE FAGGOT HUGE FAGGOT HUGE FAGGOT HUGE FAGGOT HUGE FAGGOT HUGE FAGGOT HUGE FAGGOT HUGE FAGGOT HUGE FAGGOT HUGE FAGGOT HUGE FAGGOT HUGE FAGGOT HUGE FAGGOT HUGE FAGGOT HUGE FAGGOT HUGE FAGGOT HUGE FAGGOT HUGE FAGGOT HUGE FAGGOT HUGE FAGGOT HUGE FAGGOT HUGE FAGGOT HUGE FAGGOT HUGE FAGGOT HUGE FAGGOT HUGE FAGGOT HUGE FAGGOT HUGE FAGGOT HUGE FAGGOT HUGE FAGGOT HUGE FAGGOT HUGE FAGGOT HUGE FAGGOT HUGE FAGGOT HUGE FAGGOT HUGE FAGGOT HUGE FAGGOT HUGE FAGGOT HUGE FAGGOT HUGE FAGGOT HUGE FAGGOT HUGE FAGGOT HUGE FAGGOT HUGE FAGGOT HUGE FAGGOT HUGE FAGGOT HUGE FAGGOT HUGE FAGGOT HUGE FAGGOT HUGE FAGGOT HUGE FAGGOT HUGE FAGGOT HUGE FAGGOT HUGE FAGGOT HUGE FAGGOT HUGE FAGGOT HUGE FAGGOT HUGE FAGGOT HUGE FAGGOT HUGE FAGGOT HUGE FAGGOT HUGE FAGGOT HUGE FAGGOT HUGE FAGGOT HUGE FAGGOT HUGE FAGGOT HUGE FAGGOT HUGE FAGGOT HUGE FAGGOT HUGE FAGGOT HUGE FAGGOT HUGE FAGGOT HUGE FAGGOT HUGE FAGGOT HUGE FAGGOT HUGE FAGGOT HUGE FAGGOT HUGE FAGGOT HUGE FAGGOT HUGE FAGGOT HUGE FAGGOT HUGE FAGGOT HUGE FAGGOT HUGE FAGGOT HUGE FAGGOT HUGE FAGGOT HUGE FAGGOT HUGE FAGGOT HUGE FAGGOT HUGE FAGGOT HUGE FAGGOT HUGE FAGGOT HUGE FAGGOT HUGE FAGGOT HUGE FAGGOT HUGE FAGGOT HUGE FAGGOT HUGE FAGGOT HUGE FAGGOT HUGE FAGGOT HUGE FAGGOT HUGE FAGGOT HUGE FAGGOT HUGE FAGGOT HUGE FAGGOT HUGE FAGGOT HUGE FAGGOT HUGE FAGGOT HUGE FAGGOT HUGE FAGGOT HUGE FAGGOT HUGE FAGGOT HUGE FAGGOT HUGE FAGGOT HUGE FAGGOT HUGE FAGGOT HUGE FAGGOT HUGE FAGGOT HUGE FAGGOT HUGE FAGGOT HUGE FAGGOT HUGE FAGGOT HUGE FAGGOT HUGE FAGGOT HUGE FAGGOT HUGE FAGGOT HUGE FAGGOT HUGE FAGGOT HUGE FAGGOT HUGE FAGGOT HUGE FAGGOT HUGE FAGGOT HUGE FAGGOT HUGE FAGGOT HUGE FAGGOT HUGE FAGGOT HUGE FAGGOT HUGE FAGGOT HUGE FAGGOT HUGE FAGGOT HUGE FAGGOT HUGE FAGGOT HUGE FAGGOT HUGE FAGGOT HUGE FAGGOT HUGE FAGGOT HUGE FAGGOT HUGE FAGGOT HUGE FAGGOT HUGE FAGGOT HUGE FAGGOT HUGE FAGGOT HUGE FAGGOT HUGE FAGGOT HUGE FAGGOT HUGE FAGGOT HUGE FAGGOT HUGE FAGGOT HUGE FAGGOT HUGE FAGGOT HUGE FAGGOT HUGE FAGGOT HUGE FAGGOT HUGE FAGGOT HUGE FAGGOT HUGE FAGGOT HUGE FAGGOT HUGE FAGGOT HUGE FAGGOT HUGE FAGGOT HUGE FAGGOT HUGE FAGGOT HUGE FAGGOT HUGE FAGGOT HUGE FAGGOT HUGE FAGGOT HUGE FAGGOT HUGE FAGGOT HUGE FAGGOT HUGE FAGGOT HUGE FAGGOT HUGE FAGGOT HUGE FAGGOT HUGE FAGGOT HUGE FAGGOT HUGE FAGGOT HUGE FAGGOT HUGE FAGGOT HUGE FAGGOT HUGE FAGGOT HUGE FAGGOT HUGE FAGGOT HUGE FAGGOT HUGE FAGGOT HUGE FAGGOT HUGE FAGGOT HUGE FAGGOT HUGE FAGGOT HUGE FAGGOT HUGE FAGGOT HUGE FAGGOT HUGE FAGGOT HUGE FAGGOT HUGE FAGGOT HUGE FAGGOT HUGE FAGGOT HUGE FAGGOT HUGE FAGGOT HUGE FAGGOT HUGE FAGGOT HUGE FAGGOT HUGE FAGGOT HUGE FAGGOT HUGE FAGGOT HUGE FAG\n",
      "++++++++++++\n",
      ">\n",
      "\n",
      " TWAT TWAT TWAT TWAT TWAT TWAT TWAT TWAT TWAT...CUNT =\n",
      "\n",
      " THIS USER IS GAY\n",
      "++++++++++++\n",
      "Fuck off back to India you cunt.\n",
      "++++++++++++\n",
      "\n",
      "Label: any_label ============================================================\n",
      "ZHANZHAO IS A MOTHERFUCKING PUSSY INDIAN-CHINESE BASTARD! http://twitter.com/phoenixreporter \n",
      "\n",
      "Go to the above address and HACK AND DESTROY IT!\n",
      "\n",
      "AND GUYS LET's FIND OUT ZHANZHAO's EMAIL AND KILL HIM! DIE YOU ASIAN BASTARD!\n",
      "++++++++++++\n",
      "You are pathetic. The Yemeni source clearly said he is alive. Get over yourself. .\n",
      "++++++++++++\n",
      "personal websites \n",
      "\n",
      "Personal websites of the subject of the article are not only permitted, they are required. Stop being a dick, please. —\n",
      "++++++++++++\n",
      "You don't want people to know the TRUTH about utorrant, you FAG!\n",
      "++++++++++++\n",
      "pile of poop, and not particularly constructive poop at that\n",
      "++++++++++++\n",
      "\"\n",
      "\n",
      " Sockpuppet? \n",
      "\n",
      "Oh no Stifle. Just what do you think your doing? I've worked too hard for you to do this. And why? Dont assume, look at my contributions and what have I done? What ties me to \"\"Smugface\"\" (as you and every second person belives)? And what sets us apart? CONSTRUCTIVE EDITS! Thats bloody what! \n",
      "\n",
      "Remove or find an answer.\n",
      "\n",
      "  \n",
      "\n",
      "Not happy Jan!\n",
      "\n",
      " Could we not discuss this in the stead of dirtying up each others pages?   \n",
      "Your contribution patterns are very similar - very little article contributions, causing general annoyance, and yelling at anyone who tries to call you on it.   \"\n",
      "++++++++++++\n",
      "Your acts of vandalism on Iran-Iraq war article have been reverted. You are hereby warned to stop destroying the body of knowledge on this site. But alas, low lives like you are worthless and hopeless in extreme to understand what knowledge means. You are just a lackey of Saddam who has survived the day.\n",
      "++++++++++++\n",
      "\"Yep.  Welcome to Wikipedia.  Otherwise known as \"\"Zoe's domain.\"\"  Whatever she doesn't like, she wipes, and always has some excuse about \"\"violating copyright,\"\" etc. even when there's no such violation.  Especially if you're new.  Then she accuses everyone who agrees with you of being a sockpuppet.  Typical frustrated fangirl.  \n",
      "\n",
      "\"\n",
      "++++++++++++\n",
      "\"\n",
      "\n",
      "Oh well done. I'm such a bad boy for \"\"attacking\"\" the \"\"1st Lord Baron Wikipedia\"\". Jesus Christ. All I wanted to know was why the Trayvon Martin case is not on the front page, and now I know - the people making the decisions about such things are just talking utter crap, and people like you who are apparently so threatened by the prospect of the outside world finding this out, you're prepared to shut me up, forcibly (and more despicably, others then remove my comments as if they had never been made at all). Well done. Now the \"\"1st Lord Baron Wikipedia\"\" can feel safe in the knowledge that he doesn't have to exlain why he thinks a 20,000 word article and a 15,000 word article on something that's being reported around the world, has \"\"negligible encyclopedic value\"\". And now someone who calls himself a bucket thinks the Lord was simply exercising \"\"most right and proper good humor\"\" in acting that way. And the person going around erasing all my comments to hide them from outsiders calls himself a \"\"Rambling Man\"\". Very apt. This isn't an encyclopedia, it's a playground. It only remains to be seen what the name \"\"Bishonen\"\" means, but I doubt it's anything remotely intellectual, probaby just a cartoon reference or something. You can block me for 48 hours, but on this evidence, Wikipedia is going to be a poor excuse of a website encyclopedia for life. On further investigation, the 1st Lord seems to have got me blocked by crying to admins, which seems apt, seeing as he's probably just a child himself. Presumably the use of the phrase \"\"Bishonen with her finger on the trigger\"\" over there waa meant to be funny, but given the context of my complaint, it's just rather tragic. Still, back to the real world, where the Trayvon Martin case is actually real news, and the issues it involves are of encyclopedic value. I've found the articles myself without the help of the front page, but apparently anyone else looking for them can just go to hell (in a bucket?). All, you Lords, Hell Buckets and Rambling men get back to whatever the fuck it is you do around here, which is cleearly not creating a useful encyclopedia (at least you don't seem to be getting in the way of the people who actually managed to write the articles on the shooting and trial, so thank fuck for that).\"\n",
      "++++++++++++\n",
      "No, go ahead, we'd love to hear your bright ideas. Oh, wait, you are a coward, nevermind, f off\n",
      "++++++++++++\n",
      "\n",
      "Clean comments =========================================\n",
      "Your edit to Swamp \n",
      "\n",
      "Please do not add nonsense to Wikipedia; it is considered vandalism. If you would like to experiment, use the sandbox. Thank you.  + R/W\n",
      "++++++++++++\n",
      "\" Sorry I didn't have much time to craft a response as I was in between a few assignments, but another avenue to explore is for another writer to take on the project and you and your knowledge benefits the work as a \"\"source.\"\" The question of conflict of interest also brings into play the legal aspects of intellectual prperty so that it would also not be untoward to seek out legal opinion before proceeding. FWIW   .\"\n",
      "++++++++++++\n",
      "Catholicism \n",
      "\n",
      "The mention of relic and idol worship may indeed be WBC held opinions.  But, there are also widely held opinions by mainstream religious figures within the Catholic Church itself that agree to some of these points.  Some of the views seem extreme, but some mentioned are very common.  The objection to relic worship especially, as this is a debate now even with PJII's artifacts.\n",
      "++++++++++++\n",
      "Notability?\n",
      "I'd like to know exactly how notable these IIFA Awards are. I saw the firsrt ever ceremony on TV and I noticed all the performers coming to collect their awards. I'm all for Awards that entail performers personally receiving their awards as this indicates some measure of seriousness on their part, but how exactly are these awards granted? Peer-reviewed by industry professionals (like the Oscars) or popular votes?  talk\n",
      "++++++++++++\n",
      "I understand your arguments, and, though I still don't agree with you, but, since I don't feel strongly on this, and I can see that everyone else thinks that we should leave it as is, I'll drop the issue\n",
      "++++++++++++\n",
      "Primitive Communism edits\n",
      "Do not accuse me of vandalism again.\n",
      "++++++++++++\n",
      "Talk page access has been revoked due to using this page to continue promoting the company while blocked due to a promotional username. Please follow the instructions at WP:URTS if you want to request an unblock.\n",
      "++++++++++++\n",
      "(killed over 100 000 natives)\n",
      "++++++++++++\n",
      "Universidades y Colegios \n",
      "\n",
      "I would like to invite you to check out the userboxes that I have created in Wikipedia!  If your Collge/University is not there feel free to make create one or let me known and I'll make it (User: Lufthmark)\n",
      "\n",
      "http://en.wikipedia.org/wiki/Wikipedia:Userboxes/Education/Mexico\n",
      "++++++++++++\n",
      "\"\n",
      "\n",
      "Will do.  I will be an INCLUSIONIST.  Be aware Wikipedian contributors: the \"\"tag-team\"\" is a serious DELETION machine, esp. when it comes to facts that don't support its jewish-centric activism and its racial and religious views of history.  Jayjg, I have looked at your activity very closely on this website.  It's clear as day what your focus is.  All Wikipedians should look at it closely also.\"\n",
      "++++++++++++\n"
     ]
    }
   ],
   "source": [
    "for t in targets:\n",
    "    print(\"Label: %s ============================================================\" % t)\n",
    "    b = np.where(df_targets[t]==1)[0]\n",
    "    selection = np.random.choice(b, 10)\n",
    "    for s in selection:\n",
    "        print(df.comment_text.loc[s])\n",
    "        print(\"++++++++++++\")\n",
    "    print()\n",
    "    \n",
    "b = np.where(df_targets.any_label==0)[0]\n",
    "selection = np.random.choice(b, 10)\n",
    "print(\"Clean comments =========================================\")\n",
    "for s in selection:\n",
    "    print(df.comment_text.loc[s])\n",
    "    print(\"++++++++++++\")"
   ]
  },
  {
   "cell_type": "markdown",
   "metadata": {
    "colab_type": "text",
    "id": "e3er2_Co5yyq"
   },
   "source": [
    "Interesting takeaways:\n",
    "- 'Toxic' represents over 90% of each other category. \n",
    "- Though all appear at first glance to be subcategories of toxic, only 'severe_toxic' is 'toxic' 100% of the time. \n",
    "- Toxic isn't actually an overall category, some attribute of toxic ends up describing most insults, threats, hate comments, and obscenities. \n",
    "\n",
    "We don't have actual definitions of these classifications, so we can't know exactly what they mean and why, for example, all 'identity_hate' comments aren't toxic. If it was higher, like 99%, I'd say labeling error, and just make 'toxic' an overall category that's true when any other category is true. "
   ]
  },
  {
   "cell_type": "code",
   "execution_count": 26,
   "metadata": {},
   "outputs": [
    {
     "data": {
      "text/html": [
       "<div>\n",
       "<style scoped>\n",
       "    .dataframe tbody tr th:only-of-type {\n",
       "        vertical-align: middle;\n",
       "    }\n",
       "\n",
       "    .dataframe tbody tr th {\n",
       "        vertical-align: top;\n",
       "    }\n",
       "\n",
       "    .dataframe thead th {\n",
       "        text-align: right;\n",
       "    }\n",
       "</style>\n",
       "<table border=\"1\" class=\"dataframe\">\n",
       "  <thead>\n",
       "    <tr style=\"text-align: right;\">\n",
       "      <th></th>\n",
       "      <th>comment_text</th>\n",
       "      <th>length</th>\n",
       "      <th>caps</th>\n",
       "      <th>word_length</th>\n",
       "      <th>exclamation</th>\n",
       "      <th>question</th>\n",
       "      <th>comment_sequence</th>\n",
       "    </tr>\n",
       "  </thead>\n",
       "  <tbody>\n",
       "    <tr>\n",
       "      <th>0</th>\n",
       "      <td>Explanation\\nWhy the edits made under my usern...</td>\n",
       "      <td>264</td>\n",
       "      <td>0.083333</td>\n",
       "      <td>4.500000</td>\n",
       "      <td>0</td>\n",
       "      <td>1</td>\n",
       "      <td>[678, 77, 1, 130, 133, 179, 31, 664, 4374, 109...</td>\n",
       "    </tr>\n",
       "    <tr>\n",
       "      <th>1</th>\n",
       "      <td>D'aww! He matches this background colour I'm s...</td>\n",
       "      <td>112</td>\n",
       "      <td>0.108108</td>\n",
       "      <td>6.250000</td>\n",
       "      <td>1</td>\n",
       "      <td>0</td>\n",
       "      <td>[166, 52, 2587, 13, 548, 3712, 3, 70, 4424, 26...</td>\n",
       "    </tr>\n",
       "    <tr>\n",
       "      <th>2</th>\n",
       "      <td>Hey man, I'm really not trying to edit war. It...</td>\n",
       "      <td>233</td>\n",
       "      <td>0.021390</td>\n",
       "      <td>4.638889</td>\n",
       "      <td>0</td>\n",
       "      <td>0</td>\n",
       "      <td>[409, 420, 3, 70, 137, 14, 252, 2, 76, 312, 10...</td>\n",
       "    </tr>\n",
       "    <tr>\n",
       "      <th>3</th>\n",
       "      <td>\"\\nMore\\nI can't make any real suggestions on ...</td>\n",
       "      <td>622</td>\n",
       "      <td>0.022587</td>\n",
       "      <td>4.212766</td>\n",
       "      <td>0</td>\n",
       "      <td>0</td>\n",
       "      <td>[60, 3, 37, 22, 99, 57, 327, 1422, 15, 2074, 3...</td>\n",
       "    </tr>\n",
       "    <tr>\n",
       "      <th>4</th>\n",
       "      <td>You, sir, are my hero. Any chance you remember...</td>\n",
       "      <td>67</td>\n",
       "      <td>0.039216</td>\n",
       "      <td>4.125000</td>\n",
       "      <td>0</td>\n",
       "      <td>1</td>\n",
       "      <td>[6, 1661, 19, 31, 3377, 57, 1059, 6, 573, 42, ...</td>\n",
       "    </tr>\n",
       "  </tbody>\n",
       "</table>\n",
       "</div>"
      ],
      "text/plain": [
       "                                        comment_text  length      caps  \\\n",
       "0  Explanation\\nWhy the edits made under my usern...     264  0.083333   \n",
       "1  D'aww! He matches this background colour I'm s...     112  0.108108   \n",
       "2  Hey man, I'm really not trying to edit war. It...     233  0.021390   \n",
       "3  \"\\nMore\\nI can't make any real suggestions on ...     622  0.022587   \n",
       "4  You, sir, are my hero. Any chance you remember...      67  0.039216   \n",
       "\n",
       "   word_length  exclamation  question  \\\n",
       "0     4.500000            0         1   \n",
       "1     6.250000            1         0   \n",
       "2     4.638889            0         0   \n",
       "3     4.212766            0         0   \n",
       "4     4.125000            0         1   \n",
       "\n",
       "                                    comment_sequence  \n",
       "0  [678, 77, 1, 130, 133, 179, 31, 664, 4374, 109...  \n",
       "1  [166, 52, 2587, 13, 548, 3712, 3, 70, 4424, 26...  \n",
       "2  [409, 420, 3, 70, 137, 14, 252, 2, 76, 312, 10...  \n",
       "3  [60, 3, 37, 22, 99, 57, 327, 1422, 15, 2074, 3...  \n",
       "4  [6, 1661, 19, 31, 3377, 57, 1059, 6, 573, 42, ...  "
      ]
     },
     "execution_count": 26,
     "metadata": {},
     "output_type": "execute_result"
    }
   ],
   "source": [
    "df.head()"
   ]
  },
  {
   "cell_type": "code",
   "execution_count": 9,
   "metadata": {},
   "outputs": [
    {
     "name": "stdout",
     "output_type": "stream",
     "text": [
      "Average toxic comment length: 303\n",
      "Average clean comment length: 404\n"
     ]
    }
   ],
   "source": [
    "df['length'] = df.comment_text.apply(lambda x: len(x))\n",
    "print(\"Average toxic comment length: %d\" % int(np.mean(df[(df_targets.any_label==1)].length)))\n",
    "print(\"Average clean comment length: %d\" % int(np.mean(df[(df_targets.any_label==0)].length)))"
   ]
  },
  {
   "cell_type": "code",
   "execution_count": 10,
   "metadata": {},
   "outputs": [
    {
     "name": "stdout",
     "output_type": "stream",
     "text": [
      "Median toxic comment length: 128\n",
      "Median clean comment length: 216\n"
     ]
    }
   ],
   "source": [
    "print(\"Median toxic comment length: %d\" % int(np.median(df[(df_targets.any_label==1)].length)))\n",
    "print(\"Median clean comment length: %d\" % int(np.median(df[(df_targets.any_label==0)].length)))"
   ]
  },
  {
   "cell_type": "code",
   "execution_count": 11,
   "metadata": {},
   "outputs": [
    {
     "name": "stdout",
     "output_type": "stream",
     "text": [
      "Percent of capitalized characters in toxic comments: 14%\n",
      "Percent of capitalized characters in clean comments: 5%\n"
     ]
    }
   ],
   "source": [
    "def pct_caps(s):\n",
    "    return sum([1 for c in s if c.isupper()]) / (sum(([1 for c in s if c.isalpha()])) + 1)\n",
    "df['caps'] = df.comment_text.apply(lambda x: pct_caps(x))\n",
    "print(\"Percent of capitalized characters in toxic comments: %d%%\" % int(100 * np.mean(df[(df_targets.any_label==1)].caps)))\n",
    "print(\"Percent of capitalized characters in clean comments: %d%%\" % int(100 * np.mean(df[(df_targets.any_label==0)].caps)))"
   ]
  },
  {
   "cell_type": "code",
   "execution_count": 12,
   "metadata": {},
   "outputs": [
    {
     "name": "stderr",
     "output_type": "stream",
     "text": [
      "C:\\Users\\Windows 10\\anaconda3\\lib\\site-packages\\numpy\\core\\fromnumeric.py:3440: RuntimeWarning: Mean of empty slice.\n",
      "  return _methods._mean(a, axis=axis, dtype=dtype,\n"
     ]
    },
    {
     "name": "stdout",
     "output_type": "stream",
     "text": [
      "Average word length in toxic comments: 4.1\n",
      "Average word length in clean comments: 4.4\n"
     ]
    }
   ],
   "source": [
    "def word_length(s):\n",
    "    s = s.split(' ')\n",
    "    return np.mean([len(w) for w in s if w.isalpha()])\n",
    "df['word_length'] = df.comment_text.apply(lambda x: word_length(x))\n",
    "\n",
    "print(\"Average word length in toxic comments: %.1f\" % np.mean(df[(df_targets.any_label==1)].word_length))\n",
    "print(\"Average word length in clean comments: %.1f\" % np.mean(df[(df_targets.any_label==0)].word_length))"
   ]
  },
  {
   "cell_type": "code",
   "execution_count": 13,
   "metadata": {},
   "outputs": [
    {
     "name": "stdout",
     "output_type": "stream",
     "text": [
      "Exclamations in toxic comments: 3.5\n",
      "Exclamations in clean comments: 0.3\n"
     ]
    }
   ],
   "source": [
    "df['exclamation'] = df.comment_text.apply(lambda s: len([c for c in s if c == '!']))\n",
    "print(\"Exclamations in toxic comments: %.1f\" % np.mean(df[(df_targets.any_label==1)].exclamation))\n",
    "print(\"Exclamations in clean comments: %.1f\" % np.mean(df[(df_targets.any_label==0)].exclamation))"
   ]
  },
  {
   "cell_type": "code",
   "execution_count": 14,
   "metadata": {},
   "outputs": [
    {
     "name": "stdout",
     "output_type": "stream",
     "text": [
      "Question marks in toxic comments: 0.6\n",
      "Question marks in clean comments: 0.4\n"
     ]
    }
   ],
   "source": [
    "df['question'] = df.comment_text.apply(lambda s: len([c for c in s if c == '?']))\n",
    "print(\"Question marks in toxic comments: %.1f\" % np.mean(df[(df_targets.any_label==1)].question))\n",
    "print(\"Question marks in clean comments: %.1f\" % np.mean(df[(df_targets.any_label==0)].question))"
   ]
  },
  {
   "cell_type": "code",
   "execution_count": 15,
   "metadata": {},
   "outputs": [],
   "source": [
    "import re\n",
    "ip = re.compile('(([2][5][0-5]\\.)|([2][0-4][0-9]\\.)|([0-1]?[0-9]?[0-9]\\.)){3}'\n",
    "                +'(([2][5][0-5])|([2][0-4][0-9])|([0-1]?[0-9]?[0-9]))')\n",
    "def strip_ip(s, ip):\n",
    "    try:\n",
    "        found = ip.search(s)\n",
    "        return s.replace(found.group(), ' ')\n",
    "    except:\n",
    "        return s\n",
    "    \n",
    "df.comment_text = df.comment_text.apply(lambda x: strip_ip(x, ip))"
   ]
  },
  {
   "cell_type": "code",
   "execution_count": 16,
   "metadata": {},
   "outputs": [
    {
     "name": "stdout",
     "output_type": "stream",
     "text": [
      "Label overlap summary.\n",
      "1 label: 39.2%\n",
      "2 labels: 21.4%\n",
      "3 labels: 25.9%\n",
      "4 labels: 10.8%\n",
      "5 labels: 2.4%\n",
      "6 labels: 0.2%\n"
     ]
    },
    {
     "data": {
      "image/png": "[encoded data removed]",
      "text/plain": [
       "<Figure size 640x480 with 1 Axes>"
      ]
     },
     "metadata": {},
     "output_type": "display_data"
    }
   ],
   "source": [
    "target_sums = np.sum(df_targets[df_targets.columns[:-1]], axis=1)\n",
    "target_sums = target_sums[(df_targets.any_label==1)]\n",
    "plt.figure('Label counts')\n",
    "plt.title('Label counts')\n",
    "plt.hist(target_sums)\n",
    "print(\"Label overlap summary.\")\n",
    "for i in range(1,7):\n",
    "    print('%d label%s: %.1f%%' % (i, 's' if i > 1 else '', 100 * len([s for s in target_sums if s == i])/len(target_sums)))"
   ]
  },
  {
   "cell_type": "code",
   "execution_count": null,
   "metadata": {},
   "outputs": [],
   "source": [
    " "
   ]
  },
  {
   "cell_type": "markdown",
   "metadata": {
    "colab_type": "text",
    "id": "_A0tzkGe5yyz"
   },
   "source": [
    "### Split Labels from Training Data"
   ]
  },
  {
   "cell_type": "code",
   "execution_count": 17,
   "metadata": {
    "colab": {
     "autoexec": {
      "startup": false,
      "wait_interval": 0
     },
     "base_uri": "https://localhost:8080/",
     "height": 208,
     "output_extras": [
      {
       "item_id": 1
      }
     ]
    },
    "colab_type": "code",
    "executionInfo": {
     "elapsed": 388,
     "status": "ok",
     "timestamp": 1522886469444,
     "user": {
      "displayName": "Jay Speidell",
      "photoUrl": "//lh6.googleusercontent.com/-PA283dAAXaQ/AAAAAAAAAAI/AAAAAAAAGng/nfaP1-4Q3qM/s50-c-k-no/photo.jpg",
      "userId": "112011094715710279880"
     },
     "user_tz": 420
    },
    "id": "zK__ccvx5yy0",
    "outputId": "f5da2fc6-bb5c-4482-9f85-5b4779f14a81"
   },
   "outputs": [
    {
     "name": "stdout",
     "output_type": "stream",
     "text": [
      "Training labels:\n",
      "['toxic', 'severe_toxic', 'obscene', 'threat', 'insult', 'identity_hate', 'any_label']\n",
      "(159571, 7)\n",
      "\n",
      "Training data\n",
      "['comment_text', 'length', 'caps', 'word_length', 'exclamation', 'question']\n",
      "(159571, 6)\n"
     ]
    }
   ],
   "source": [
    "print('Training labels:')\n",
    "print(list(df_targets.columns))\n",
    "print(df_targets.shape)\n",
    "\n",
    "print('\\nTraining data')\n",
    "df.drop(list(df_targets.columns[:-1]), inplace=True, axis=1)\n",
    "df.drop('id', inplace=True, axis=1)\n",
    "print(list(df.columns))\n",
    "print(df.shape)"
   ]
  },
  {
   "cell_type": "markdown",
   "metadata": {
    "colab_type": "text",
    "id": "41hcbO6m5yy8"
   },
   "source": [
    "## Natural Language Processing"
   ]
  },
  {
   "cell_type": "markdown",
   "metadata": {
    "colab_type": "text",
    "id": "qZU1wqtf5yy9"
   },
   "source": [
    "### Tokenized Sequences for Visualization"
   ]
  },
  {
   "cell_type": "code",
   "execution_count": 18,
   "metadata": {
    "colab": {
     "autoexec": {
      "startup": false,
      "wait_interval": 0
     }
    },
    "colab_type": "code",
    "id": "5ki3QJXE5yzK"
   },
   "outputs": [],
   "source": [
    "from keras.preprocessing.text import Tokenizer, text_to_word_sequence\n",
    "from nltk.corpus import stopwords\n",
    "import string\n",
    "\n",
    "top_words = 5000\n",
    "tokenizer = Tokenizer(filters=string.punctuation+'\\n', lower=True, num_words=top_words)\n",
    "tokenizer.fit_on_texts(df['comment_text'])\n"
   ]
  },
  {
   "cell_type": "code",
   "execution_count": 19,
   "metadata": {
    "colab": {
     "autoexec": {
      "startup": false,
      "wait_interval": 0
     }
    },
    "colab_type": "code",
    "id": "kc-PMuuo5yzQ"
   },
   "outputs": [],
   "source": [
    "df['comment_sequence'] = tokenizer.texts_to_sequences(df.comment_text.str.lower())"
   ]
  },
  {
   "cell_type": "code",
   "execution_count": 20,
   "metadata": {
    "colab": {
     "autoexec": {
      "startup": false,
      "wait_interval": 0
     }
    },
    "colab_type": "code",
    "id": "tzUtTrE85yzW"
   },
   "outputs": [
    {
     "data": {
      "text/plain": [
       "'[1, 19, 641, 23, 1, 22, 856, 43, 19, 48, 2035, 2, 10, 13, 121, 126, 8, 201, 10, 412, 975, 1126, 17, 10, 10, 13, 8, 1, 1630, 856, 55, 95, 602, 39, 6, 125, 62, 2035, 980, 2379, 14, 969, 4, 3610, 17, 316, 17, 3, 72, 1, 531, 45, 1038, 2221, 641, 23, 62, 1907, 5, 4220, 319, 43, 8, 14, 97, 1, 1353, 4, 32, 842, 36, 42, 1813, 1493, 27, 13, 190, 18, 15, 1, 856, 24, 6, 95, 521, 43, 19, 2379, 39, 1, 2408, 4, 33, 1010, 2523, 2, 11, 2177, 319, 319]'"
      ]
     },
     "execution_count": 20,
     "metadata": {},
     "output_type": "execute_result"
    }
   ],
   "source": [
    "# Random comment\n",
    "str(df.comment_sequence[890])"
   ]
  },
  {
   "cell_type": "markdown",
   "metadata": {
    "colab_type": "text",
    "id": "QeJWnVa15yzZ"
   },
   "source": [
    "### Analyze Max Len, Choose Appropriate 'max_len'"
   ]
  },
  {
   "cell_type": "code",
   "execution_count": 21,
   "metadata": {
    "colab": {
     "autoexec": {
      "startup": false,
      "wait_interval": 0
     },
     "base_uri": "https://localhost:8080/",
     "height": 34,
     "output_extras": [
      {
       "item_id": 1
      }
     ]
    },
    "colab_type": "code",
    "executionInfo": {
     "elapsed": 470,
     "status": "ok",
     "timestamp": 1522886498512,
     "user": {
      "displayName": "Jay Speidell",
      "photoUrl": "//lh6.googleusercontent.com/-PA283dAAXaQ/AAAAAAAAAAI/AAAAAAAAGng/nfaP1-4Q3qM/s50-c-k-no/photo.jpg",
      "userId": "112011094715710279880"
     },
     "user_tz": 420
    },
    "id": "KCqfd5Vt5yza",
    "outputId": "8d9942dd-7ada-4631-c06c-c453cf92ed5b"
   },
   "outputs": [
    {
     "name": "stdout",
     "output_type": "stream",
     "text": [
      "Max comment length is 1399.\n"
     ]
    }
   ],
   "source": [
    "max_len = df.comment_sequence.map(lambda x: len(x)).max()\n",
    "print(\"Max comment length is %d.\" % max_len)"
   ]
  },
  {
   "cell_type": "code",
   "execution_count": 22,
   "metadata": {
    "colab": {
     "autoexec": {
      "startup": false,
      "wait_interval": 0
     }
    },
    "colab_type": "code",
    "id": "zez8GbwS5yzj"
   },
   "outputs": [],
   "source": [
    "seq_lens = df.comment_sequence.map(lambda x: len(x))"
   ]
  },
  {
   "cell_type": "code",
   "execution_count": 23,
   "metadata": {
    "colab": {
     "autoexec": {
      "startup": false,
      "wait_interval": 0
     },
     "base_uri": "https://localhost:8080/",
     "height": 173,
     "output_extras": [
      {
       "item_id": 1
      }
     ]
    },
    "colab_type": "code",
    "executionInfo": {
     "elapsed": 378,
     "status": "ok",
     "timestamp": 1522721658578,
     "user": {
      "displayName": "Jay Speidell",
      "photoUrl": "//lh6.googleusercontent.com/-PA283dAAXaQ/AAAAAAAAAAI/AAAAAAAAGng/nfaP1-4Q3qM/s50-c-k-no/photo.jpg",
      "userId": "112011094715710279880"
     },
     "user_tz": 420
    },
    "id": "XIdVwW1j5yzr",
    "outputId": "1b110312-09aa-4811-feff-e68a12689790"
   },
   "outputs": [
    {
     "name": "stdout",
     "output_type": "stream",
     "text": [
      "83.34% of comments have more than 10 words.\n",
      "35.22% of comments have more than 50 words.\n",
      "16.06% of comments have more than 100 words.\n",
      "5.61% of comments have more than 200 words.\n",
      "2.62% of comments have more than 300 words.\n",
      "1.63% of comments have more than 400 words.\n",
      "1.08% of comments have more than 500 words.\n",
      "0.02% of comments have more than 1000 words.\n",
      "0.01% of comments have more than 1200 words.\n"
     ]
    }
   ],
   "source": [
    "for i in [10, 50, 100, 200, 300, 400, 500, 1000, 1200]:\n",
    "    select = (seq_lens > i)\n",
    "    print('%.2f%% of comments have more than %d words.' % ((np.sum(select)/len(seq_lens))*100, i))"
   ]
  },
  {
   "cell_type": "markdown",
   "metadata": {
    "colab_type": "text",
    "id": "aK6XI-WD5yz7"
   },
   "source": [
    "So this data is going into an RNN, and less data is always better becase I'm going to be training on a CPU. I'm going to choose a cutoff of 300 words for now. My logic? I feel like an informative long-form comment isn't going to turn into a racist tirade halfway in. The first 300 words should be able to predict the sentiment of the entire comment. I'll experiment more later, this is just a starting point. "
   ]
  },
  {
   "cell_type": "markdown",
   "metadata": {
    "colab_type": "text",
    "id": "ZSCnkLiC5y0A"
   },
   "source": [
    "### Visualize Word Counts"
   ]
  },
  {
   "cell_type": "code",
   "execution_count": 24,
   "metadata": {
    "colab": {
     "autoexec": {
      "startup": false,
      "wait_interval": 0
     }
    },
    "colab_type": "code",
    "id": "oAi3PnCf5y0B"
   },
   "outputs": [],
   "source": [
    "def get_word_cnt(tokenizer):\n",
    "    word_cnt = [(k, v) for k, v in zip(tokenizer.word_counts.keys(), \n",
    "                                       tokenizer.word_counts.values())]\n",
    "    word_cnt.sort(key = lambda tup: tup[1], reverse=True)\n",
    "    stopWords = set(stopwords.words('english'))\n",
    "    word_cnt = [tup for tup in word_cnt if tup[0] not in stopWords]\n",
    "    return word_cnt\n",
    "\n",
    "def word_plot(word_cnt, num_words, title):\n",
    "    plt.figure(title, figsize=(24, 12))\n",
    "    plt.suptitle(title, fontsize=40)\n",
    "    sns.barplot(x= [tup[0] for tup in word_cnt[0:num_words]], \n",
    "                y = [tup[1] for tup in word_cnt[0:num_words]])\n",
    "    plt.yticks(fontsize=20)\n",
    "    plt.xticks(fontsize=20, rotation=35, ha='right')\n",
    "    plt.show()"
   ]
  },
  {
   "cell_type": "code",
   "execution_count": 25,
   "metadata": {
    "colab": {
     "autoexec": {
      "startup": false,
      "wait_interval": 0
     },
     "base_uri": "https://localhost:8080/",
     "height": 1727,
     "output_extras": [
      {
       "item_id": 1
      },
      {
       "item_id": 2
      },
      {
       "item_id": 3
      }
     ]
    },
    "colab_type": "code",
    "executionInfo": {
     "elapsed": 11939,
     "status": "ok",
     "timestamp": 1521343905230,
     "user": {
      "displayName": "Jay Speidell",
      "photoUrl": "//lh6.googleusercontent.com/-PA283dAAXaQ/AAAAAAAAAAI/AAAAAAAAGng/nfaP1-4Q3qM/s50-c-k-no/photo.jpg",
      "userId": "112011094715710279880"
     },
     "user_tz": 420
    },
    "id": "rjh8GDay5y0F",
    "outputId": "0f5efc0f-41e3-4119-e24a-f08995c78204",
    "scrolled": false
   },
   "outputs": [
    {
     "ename": "LookupError",
     "evalue": "\n**********************************************************************\n  Resource \u001b[93mstopwords\u001b[0m not found.\n  Please use the NLTK Downloader to obtain the resource:\n\n  \u001b[31m>>> import nltk\n  >>> nltk.download('stopwords')\n  \u001b[0m\n  For more information see: https://www.nltk.org/data.html\n\n  Attempted to load \u001b[93mcorpora/stopwords\u001b[0m\n\n  Searched in:\n    - 'C:\\\\Users\\\\Windows 10/nltk_data'\n    - 'C:\\\\Users\\\\Windows 10\\\\anaconda3\\\\nltk_data'\n    - 'C:\\\\Users\\\\Windows 10\\\\anaconda3\\\\share\\\\nltk_data'\n    - 'C:\\\\Users\\\\Windows 10\\\\anaconda3\\\\lib\\\\nltk_data'\n    - 'C:\\\\Users\\\\Windows 10\\\\AppData\\\\Roaming\\\\nltk_data'\n    - 'C:\\\\nltk_data'\n    - 'D:\\\\nltk_data'\n    - 'E:\\\\nltk_data'\n**********************************************************************\n",
     "output_type": "error",
     "traceback": [
      "\u001b[1;31m---------------------------------------------------------------------------\u001b[0m",
      "\u001b[1;31mLookupError\u001b[0m                               Traceback (most recent call last)",
      "\u001b[1;32m~\\anaconda3\\lib\\site-packages\\nltk\\corpus\\util.py\u001b[0m in \u001b[0;36m__load\u001b[1;34m(self)\u001b[0m\n\u001b[0;32m     83\u001b[0m                 \u001b[1;32mtry\u001b[0m\u001b[1;33m:\u001b[0m\u001b[1;33m\u001b[0m\u001b[1;33m\u001b[0m\u001b[0m\n\u001b[1;32m---> 84\u001b[1;33m                     \u001b[0mroot\u001b[0m \u001b[1;33m=\u001b[0m \u001b[0mnltk\u001b[0m\u001b[1;33m.\u001b[0m\u001b[0mdata\u001b[0m\u001b[1;33m.\u001b[0m\u001b[0mfind\u001b[0m\u001b[1;33m(\u001b[0m\u001b[1;34mf\"{self.subdir}/{zip_name}\"\u001b[0m\u001b[1;33m)\u001b[0m\u001b[1;33m\u001b[0m\u001b[1;33m\u001b[0m\u001b[0m\n\u001b[0m\u001b[0;32m     85\u001b[0m                 \u001b[1;32mexcept\u001b[0m \u001b[0mLookupError\u001b[0m\u001b[1;33m:\u001b[0m\u001b[1;33m\u001b[0m\u001b[1;33m\u001b[0m\u001b[0m\n",
      "\u001b[1;32m~\\anaconda3\\lib\\site-packages\\nltk\\data.py\u001b[0m in \u001b[0;36mfind\u001b[1;34m(resource_name, paths)\u001b[0m\n\u001b[0;32m    582\u001b[0m     \u001b[0mresource_not_found\u001b[0m \u001b[1;33m=\u001b[0m \u001b[1;34mf\"\\n{sep}\\n{msg}\\n{sep}\\n\"\u001b[0m\u001b[1;33m\u001b[0m\u001b[1;33m\u001b[0m\u001b[0m\n\u001b[1;32m--> 583\u001b[1;33m     \u001b[1;32mraise\u001b[0m \u001b[0mLookupError\u001b[0m\u001b[1;33m(\u001b[0m\u001b[0mresource_not_found\u001b[0m\u001b[1;33m)\u001b[0m\u001b[1;33m\u001b[0m\u001b[1;33m\u001b[0m\u001b[0m\n\u001b[0m\u001b[0;32m    584\u001b[0m \u001b[1;33m\u001b[0m\u001b[0m\n",
      "\u001b[1;31mLookupError\u001b[0m: \n**********************************************************************\n  Resource \u001b[93mstopwords\u001b[0m not found.\n  Please use the NLTK Downloader to obtain the resource:\n\n  \u001b[31m>>> import nltk\n  >>> nltk.download('stopwords')\n  \u001b[0m\n  For more information see: https://www.nltk.org/data.html\n\n  Attempted to load \u001b[93mcorpora/stopwords.zip/stopwords/\u001b[0m\n\n  Searched in:\n    - 'C:\\\\Users\\\\Windows 10/nltk_data'\n    - 'C:\\\\Users\\\\Windows 10\\\\anaconda3\\\\nltk_data'\n    - 'C:\\\\Users\\\\Windows 10\\\\anaconda3\\\\share\\\\nltk_data'\n    - 'C:\\\\Users\\\\Windows 10\\\\anaconda3\\\\lib\\\\nltk_data'\n    - 'C:\\\\Users\\\\Windows 10\\\\AppData\\\\Roaming\\\\nltk_data'\n    - 'C:\\\\nltk_data'\n    - 'D:\\\\nltk_data'\n    - 'E:\\\\nltk_data'\n**********************************************************************\n",
      "\nDuring handling of the above exception, another exception occurred:\n",
      "\u001b[1;31mLookupError\u001b[0m                               Traceback (most recent call last)",
      "\u001b[1;32mC:\\Program Files\\KMSpico\\temp\\ipykernel_6800\\3743382660.py\u001b[0m in \u001b[0;36m<module>\u001b[1;34m\u001b[0m\n\u001b[0;32m      1\u001b[0m \u001b[0mall_tokenizer\u001b[0m \u001b[1;33m=\u001b[0m \u001b[0mTokenizer\u001b[0m\u001b[1;33m(\u001b[0m\u001b[0mfilters\u001b[0m\u001b[1;33m=\u001b[0m\u001b[0mstring\u001b[0m\u001b[1;33m.\u001b[0m\u001b[0mpunctuation\u001b[0m\u001b[1;33m+\u001b[0m\u001b[1;34m'\\n'\u001b[0m\u001b[1;33m,\u001b[0m \u001b[0mlower\u001b[0m\u001b[1;33m=\u001b[0m\u001b[1;32mTrue\u001b[0m\u001b[1;33m)\u001b[0m\u001b[1;33m\u001b[0m\u001b[1;33m\u001b[0m\u001b[0m\n\u001b[0;32m      2\u001b[0m \u001b[0mall_tokenizer\u001b[0m\u001b[1;33m.\u001b[0m\u001b[0mfit_on_texts\u001b[0m\u001b[1;33m(\u001b[0m\u001b[0mdf\u001b[0m\u001b[1;33m.\u001b[0m\u001b[0mcomment_text\u001b[0m\u001b[1;33m[\u001b[0m\u001b[1;33m(\u001b[0m\u001b[0mtoxic_rows\u001b[0m\u001b[1;33m==\u001b[0m\u001b[1;36m0\u001b[0m\u001b[1;33m)\u001b[0m\u001b[1;33m]\u001b[0m\u001b[1;33m)\u001b[0m\u001b[1;33m\u001b[0m\u001b[1;33m\u001b[0m\u001b[0m\n\u001b[1;32m----> 3\u001b[1;33m \u001b[0mword_plot\u001b[0m\u001b[1;33m(\u001b[0m\u001b[0mget_word_cnt\u001b[0m\u001b[1;33m(\u001b[0m\u001b[0mall_tokenizer\u001b[0m\u001b[1;33m)\u001b[0m\u001b[1;33m,\u001b[0m \u001b[1;36m45\u001b[0m\u001b[1;33m,\u001b[0m \u001b[1;34m'Clean Comments Only'\u001b[0m\u001b[1;33m)\u001b[0m\u001b[1;33m\u001b[0m\u001b[1;33m\u001b[0m\u001b[0m\n\u001b[0m\u001b[0;32m      4\u001b[0m \u001b[1;33m\u001b[0m\u001b[0m\n\u001b[0;32m      5\u001b[0m \u001b[1;32mfor\u001b[0m \u001b[0mlabel\u001b[0m \u001b[1;32min\u001b[0m \u001b[0mtargets\u001b[0m\u001b[1;33m:\u001b[0m\u001b[1;33m\u001b[0m\u001b[1;33m\u001b[0m\u001b[0m\n",
      "\u001b[1;32mC:\\Program Files\\KMSpico\\temp\\ipykernel_6800\\3819471817.py\u001b[0m in \u001b[0;36mget_word_cnt\u001b[1;34m(tokenizer)\u001b[0m\n\u001b[0;32m      3\u001b[0m                                        tokenizer.word_counts.values())]\n\u001b[0;32m      4\u001b[0m     \u001b[0mword_cnt\u001b[0m\u001b[1;33m.\u001b[0m\u001b[0msort\u001b[0m\u001b[1;33m(\u001b[0m\u001b[0mkey\u001b[0m \u001b[1;33m=\u001b[0m \u001b[1;32mlambda\u001b[0m \u001b[0mtup\u001b[0m\u001b[1;33m:\u001b[0m \u001b[0mtup\u001b[0m\u001b[1;33m[\u001b[0m\u001b[1;36m1\u001b[0m\u001b[1;33m]\u001b[0m\u001b[1;33m,\u001b[0m \u001b[0mreverse\u001b[0m\u001b[1;33m=\u001b[0m\u001b[1;32mTrue\u001b[0m\u001b[1;33m)\u001b[0m\u001b[1;33m\u001b[0m\u001b[1;33m\u001b[0m\u001b[0m\n\u001b[1;32m----> 5\u001b[1;33m     \u001b[0mstopWords\u001b[0m \u001b[1;33m=\u001b[0m \u001b[0mset\u001b[0m\u001b[1;33m(\u001b[0m\u001b[0mstopwords\u001b[0m\u001b[1;33m.\u001b[0m\u001b[0mwords\u001b[0m\u001b[1;33m(\u001b[0m\u001b[1;34m'english'\u001b[0m\u001b[1;33m)\u001b[0m\u001b[1;33m)\u001b[0m\u001b[1;33m\u001b[0m\u001b[1;33m\u001b[0m\u001b[0m\n\u001b[0m\u001b[0;32m      6\u001b[0m     \u001b[0mword_cnt\u001b[0m \u001b[1;33m=\u001b[0m \u001b[1;33m[\u001b[0m\u001b[0mtup\u001b[0m \u001b[1;32mfor\u001b[0m \u001b[0mtup\u001b[0m \u001b[1;32min\u001b[0m \u001b[0mword_cnt\u001b[0m \u001b[1;32mif\u001b[0m \u001b[0mtup\u001b[0m\u001b[1;33m[\u001b[0m\u001b[1;36m0\u001b[0m\u001b[1;33m]\u001b[0m \u001b[1;32mnot\u001b[0m \u001b[1;32min\u001b[0m \u001b[0mstopWords\u001b[0m\u001b[1;33m]\u001b[0m\u001b[1;33m\u001b[0m\u001b[1;33m\u001b[0m\u001b[0m\n\u001b[0;32m      7\u001b[0m     \u001b[1;32mreturn\u001b[0m \u001b[0mword_cnt\u001b[0m\u001b[1;33m\u001b[0m\u001b[1;33m\u001b[0m\u001b[0m\n",
      "\u001b[1;32m~\\anaconda3\\lib\\site-packages\\nltk\\corpus\\util.py\u001b[0m in \u001b[0;36m__getattr__\u001b[1;34m(self, attr)\u001b[0m\n\u001b[0;32m    119\u001b[0m             \u001b[1;32mraise\u001b[0m \u001b[0mAttributeError\u001b[0m\u001b[1;33m(\u001b[0m\u001b[1;34m\"LazyCorpusLoader object has no attribute '__bases__'\"\u001b[0m\u001b[1;33m)\u001b[0m\u001b[1;33m\u001b[0m\u001b[1;33m\u001b[0m\u001b[0m\n\u001b[0;32m    120\u001b[0m \u001b[1;33m\u001b[0m\u001b[0m\n\u001b[1;32m--> 121\u001b[1;33m         \u001b[0mself\u001b[0m\u001b[1;33m.\u001b[0m\u001b[0m__load\u001b[0m\u001b[1;33m(\u001b[0m\u001b[1;33m)\u001b[0m\u001b[1;33m\u001b[0m\u001b[1;33m\u001b[0m\u001b[0m\n\u001b[0m\u001b[0;32m    122\u001b[0m         \u001b[1;31m# This looks circular, but its not, since __load() changes our\u001b[0m\u001b[1;33m\u001b[0m\u001b[1;33m\u001b[0m\u001b[0m\n\u001b[0;32m    123\u001b[0m         \u001b[1;31m# __class__ to something new:\u001b[0m\u001b[1;33m\u001b[0m\u001b[1;33m\u001b[0m\u001b[0m\n",
      "\u001b[1;32m~\\anaconda3\\lib\\site-packages\\nltk\\corpus\\util.py\u001b[0m in \u001b[0;36m__load\u001b[1;34m(self)\u001b[0m\n\u001b[0;32m     84\u001b[0m                     \u001b[0mroot\u001b[0m \u001b[1;33m=\u001b[0m \u001b[0mnltk\u001b[0m\u001b[1;33m.\u001b[0m\u001b[0mdata\u001b[0m\u001b[1;33m.\u001b[0m\u001b[0mfind\u001b[0m\u001b[1;33m(\u001b[0m\u001b[1;34mf\"{self.subdir}/{zip_name}\"\u001b[0m\u001b[1;33m)\u001b[0m\u001b[1;33m\u001b[0m\u001b[1;33m\u001b[0m\u001b[0m\n\u001b[0;32m     85\u001b[0m                 \u001b[1;32mexcept\u001b[0m \u001b[0mLookupError\u001b[0m\u001b[1;33m:\u001b[0m\u001b[1;33m\u001b[0m\u001b[1;33m\u001b[0m\u001b[0m\n\u001b[1;32m---> 86\u001b[1;33m                     \u001b[1;32mraise\u001b[0m \u001b[0me\u001b[0m\u001b[1;33m\u001b[0m\u001b[1;33m\u001b[0m\u001b[0m\n\u001b[0m\u001b[0;32m     87\u001b[0m \u001b[1;33m\u001b[0m\u001b[0m\n\u001b[0;32m     88\u001b[0m         \u001b[1;31m# Load the corpus.\u001b[0m\u001b[1;33m\u001b[0m\u001b[1;33m\u001b[0m\u001b[0m\n",
      "\u001b[1;32m~\\anaconda3\\lib\\site-packages\\nltk\\corpus\\util.py\u001b[0m in \u001b[0;36m__load\u001b[1;34m(self)\u001b[0m\n\u001b[0;32m     79\u001b[0m         \u001b[1;32melse\u001b[0m\u001b[1;33m:\u001b[0m\u001b[1;33m\u001b[0m\u001b[1;33m\u001b[0m\u001b[0m\n\u001b[0;32m     80\u001b[0m             \u001b[1;32mtry\u001b[0m\u001b[1;33m:\u001b[0m\u001b[1;33m\u001b[0m\u001b[1;33m\u001b[0m\u001b[0m\n\u001b[1;32m---> 81\u001b[1;33m                 \u001b[0mroot\u001b[0m \u001b[1;33m=\u001b[0m \u001b[0mnltk\u001b[0m\u001b[1;33m.\u001b[0m\u001b[0mdata\u001b[0m\u001b[1;33m.\u001b[0m\u001b[0mfind\u001b[0m\u001b[1;33m(\u001b[0m\u001b[1;34mf\"{self.subdir}/{self.__name}\"\u001b[0m\u001b[1;33m)\u001b[0m\u001b[1;33m\u001b[0m\u001b[1;33m\u001b[0m\u001b[0m\n\u001b[0m\u001b[0;32m     82\u001b[0m             \u001b[1;32mexcept\u001b[0m \u001b[0mLookupError\u001b[0m \u001b[1;32mas\u001b[0m \u001b[0me\u001b[0m\u001b[1;33m:\u001b[0m\u001b[1;33m\u001b[0m\u001b[1;33m\u001b[0m\u001b[0m\n\u001b[0;32m     83\u001b[0m                 \u001b[1;32mtry\u001b[0m\u001b[1;33m:\u001b[0m\u001b[1;33m\u001b[0m\u001b[1;33m\u001b[0m\u001b[0m\n",
      "\u001b[1;32m~\\anaconda3\\lib\\site-packages\\nltk\\data.py\u001b[0m in \u001b[0;36mfind\u001b[1;34m(resource_name, paths)\u001b[0m\n\u001b[0;32m    581\u001b[0m     \u001b[0msep\u001b[0m \u001b[1;33m=\u001b[0m \u001b[1;34m\"*\"\u001b[0m \u001b[1;33m*\u001b[0m \u001b[1;36m70\u001b[0m\u001b[1;33m\u001b[0m\u001b[1;33m\u001b[0m\u001b[0m\n\u001b[0;32m    582\u001b[0m     \u001b[0mresource_not_found\u001b[0m \u001b[1;33m=\u001b[0m \u001b[1;34mf\"\\n{sep}\\n{msg}\\n{sep}\\n\"\u001b[0m\u001b[1;33m\u001b[0m\u001b[1;33m\u001b[0m\u001b[0m\n\u001b[1;32m--> 583\u001b[1;33m     \u001b[1;32mraise\u001b[0m \u001b[0mLookupError\u001b[0m\u001b[1;33m(\u001b[0m\u001b[0mresource_not_found\u001b[0m\u001b[1;33m)\u001b[0m\u001b[1;33m\u001b[0m\u001b[1;33m\u001b[0m\u001b[0m\n\u001b[0m\u001b[0;32m    584\u001b[0m \u001b[1;33m\u001b[0m\u001b[0m\n\u001b[0;32m    585\u001b[0m \u001b[1;33m\u001b[0m\u001b[0m\n",
      "\u001b[1;31mLookupError\u001b[0m: \n**********************************************************************\n  Resource \u001b[93mstopwords\u001b[0m not found.\n  Please use the NLTK Downloader to obtain the resource:\n\n  \u001b[31m>>> import nltk\n  >>> nltk.download('stopwords')\n  \u001b[0m\n  For more information see: https://www.nltk.org/data.html\n\n  Attempted to load \u001b[93mcorpora/stopwords\u001b[0m\n\n  Searched in:\n    - 'C:\\\\Users\\\\Windows 10/nltk_data'\n    - 'C:\\\\Users\\\\Windows 10\\\\anaconda3\\\\nltk_data'\n    - 'C:\\\\Users\\\\Windows 10\\\\anaconda3\\\\share\\\\nltk_data'\n    - 'C:\\\\Users\\\\Windows 10\\\\anaconda3\\\\lib\\\\nltk_data'\n    - 'C:\\\\Users\\\\Windows 10\\\\AppData\\\\Roaming\\\\nltk_data'\n    - 'C:\\\\nltk_data'\n    - 'D:\\\\nltk_data'\n    - 'E:\\\\nltk_data'\n**********************************************************************\n"
     ]
    }
   ],
   "source": [
    "all_tokenizer = Tokenizer(filters=string.punctuation+'\\n', lower=True)\n",
    "all_tokenizer.fit_on_texts(df.comment_text[(toxic_rows==0)])\n",
    "word_plot(get_word_cnt(all_tokenizer), 45, 'Clean Comments Only')\n",
    "\n",
    "for label in targets:\n",
    "    toxic_tokenizer = Tokenizer(filters=string.punctuation+'\\n', lower=True)\n",
    "    toxic_tokenizer.fit_on_texts(df.comment_text[(df_targets[label]==1)])\n",
    "    word_plot(get_word_cnt(toxic_tokenizer), 45, label + ' Comments Only')\n",
    "    \n",
    "toxic_tokenizer = Tokenizer(filters=string.punctuation+'\\n', lower=True)\n",
    "toxic_tokenizer.fit_on_texts(df.comment_text[toxic_rows])\n",
    "word_plot(get_word_cnt(toxic_tokenizer), 45, 'Toxic Comments Only')"
   ]
  },
  {
   "cell_type": "code",
   "execution_count": null,
   "metadata": {},
   "outputs": [],
   "source": []
  },
  {
   "cell_type": "markdown",
   "metadata": {
    "colab_type": "text",
    "id": "4gLO1YNE5y0Y"
   },
   "source": [
    "The vocabulary changes quite dramatically when we look at just the toxic comments. My favorite detail is that people writing toxic comments are more likely to write 'you' as 'u' than 'you.' "
   ]
  },
  {
   "cell_type": "code",
   "execution_count": null,
   "metadata": {
    "colab": {
     "autoexec": {
      "startup": false,
      "wait_interval": 0
     },
     "base_uri": "https://localhost:8080/",
     "height": 1890,
     "output_extras": [
      {
       "item_id": 8
      },
      {
       "item_id": 9
      },
      {
       "item_id": 10
      }
     ]
    },
    "colab_type": "code",
    "executionInfo": {
     "elapsed": 8972,
     "status": "ok",
     "timestamp": 1522886511030,
     "user": {
      "displayName": "Jay Speidell",
      "photoUrl": "//lh6.googleusercontent.com/-PA283dAAXaQ/AAAAAAAAAAI/AAAAAAAAGng/nfaP1-4Q3qM/s50-c-k-no/photo.jpg",
      "userId": "112011094715710279880"
     },
     "user_tz": 420
    },
    "id": "cC7TMYUL5y0b",
    "outputId": "415abcb9-78a7-4363-ee4a-daf908e2917d"
   },
   "outputs": [],
   "source": [
    "from wordcloud import WordCloud\n",
    "\n",
    "wordcloud = WordCloud(background_color='white',\n",
    "                      stopwords=set(stopwords.words('english')),\n",
    "                      max_words=100,\n",
    "                      max_font_size=40,\n",
    "                      colormap='Greens'\n",
    "                         ).generate(str(df.comment_text[(toxic_rows==0)]))\n",
    "plt.figure('wordcloud', figsize=(24,12))\n",
    "plt.suptitle('Clean Comments', fontsize=40)\n",
    "plt.imshow(wordcloud)\n",
    "plt.axis('off')\n",
    "plt.show()\n",
    "\n",
    "wordcloud = WordCloud(background_color='white',\n",
    "                      stopwords=set(stopwords.words('english')),\n",
    "                      max_words=100,\n",
    "                      max_font_size=40,\n",
    "                      colormap='Reds'\n",
    "                         ).generate(str(df.comment_text[toxic_rows]))\n",
    "plt.figure('toxic_wordcloud', figsize=(24,12))\n",
    "plt.suptitle('Toxic Comments', fontsize=40)\n",
    "plt.imshow(wordcloud)\n",
    "plt.axis('off')\n",
    "plt.show()"
   ]
  },
  {
   "cell_type": "markdown",
   "metadata": {
    "colab_type": "text",
    "id": "qJYLgmkU5y0h"
   },
   "source": [
    "For some reason I thought Wikipedia would attract a more sophisticated demographic. "
   ]
  }
 ],
 "metadata": {
  "accelerator": "GPU",
  "colab": {
   "collapsed_sections": [
    "kaYNMVqj5yxo",
    "yH8NDq2D5yx9",
    "jxMujLal5yyN",
    "KmQxwcqp5yyu",
    "_A0tzkGe5yyz",
    "41hcbO6m5yy8",
    "qZU1wqtf5yy9",
    "WPNxOBNp5yzJ",
    "QeJWnVa15yzZ",
    "ZSCnkLiC5y0A",
    "krzeQWNb5y0h",
    "X7Yxshbs5y02",
    "1O2erv3G5y07",
    "lw2pO8mo5y0-",
    "aCDEfw7h5y1F",
    "VJj2r6ky5y1O",
    "5yiO9G4V5y1U",
    "c_NzviMo5y1t",
    "fVAFqZCz5y2P",
    "6dEs1c0H5y2r"
   ],
   "default_view": {},
   "name": "ToxicComments.ipynb",
   "provenance": [],
   "version": "0.3.2",
   "views": {}
  },
  "kernelspec": {
   "display_name": "Python 3 (ipykernel)",
   "language": "python",
   "name": "python3"
  },
  "language_info": {
   "codemirror_mode": {
    "name": "ipython",
    "version": 3
   },
   "file_extension": ".py",
   "mimetype": "text/x-python",
   "name": "python",
   "nbconvert_exporter": "python",
   "pygments_lexer": "ipython3",
   "version": "3.9.13"
  }
 },
 "nbformat": 4,
 "nbformat_minor": 1
}
